{
 "cells": [
  {
   "cell_type": "code",
   "execution_count": 70,
   "metadata": {},
   "outputs": [],
   "source": [
    "import numpy as np\n",
    "import matplotlib.pyplot as plt\n",
    "from scipy import interpolate"
   ]
  },
  {
   "cell_type": "code",
   "execution_count": 71,
   "metadata": {},
   "outputs": [],
   "source": [
    "# input data\n",
    "delta,t,V,Vp = np.genfromtxt('strain_data.txt',unpack=True,missing_values='N/A')"
   ]
  },
  {
   "cell_type": "code",
   "execution_count": 72,
   "metadata": {
    "scrolled": true
   },
   "outputs": [
    {
     "name": "stdout",
     "output_type": "stream",
     "text": [
      "[0.   0.05 0.1  0.15 0.2  0.25 0.3 ]\n",
      "[1.4461 1.2687 1.1157 0.9833 0.8682 0.7684 0.6816]\n",
      "[ 6.61e+01       nan  1.73e+01       nan  2.60e+00 -6.00e-02 -1.40e+00]\n",
      "[-2.08 -1.55 -1.17 -0.9  -0.7  -0.55 -0.43]\n"
     ]
    }
   ],
   "source": [
    "print(delta)\n",
    "print(t)\n",
    "print(V)\n",
    "print(Vp)"
   ]
  },
  {
   "cell_type": "code",
   "execution_count": 73,
   "metadata": {},
   "outputs": [
    {
     "name": "stdout",
     "output_type": "stream",
     "text": [
      "[66.1, 17.3, 2.6, -0.06, -1.4]\n",
      "[0.0, 0.1, 0.2, 0.25, 0.3]\n"
     ]
    }
   ],
   "source": [
    "V_sim=[x for x in V if not np.isnan(x)]\n",
    "delta_sim=[]\n",
    "for i,x in enumerate(V):\n",
    "    if not np.isnan(x):\n",
    "        delta_sim.append(delta[i])\n",
    "print(V_sim)\n",
    "print(delta_sim)"
   ]
  },
  {
   "cell_type": "code",
   "execution_count": 74,
   "metadata": {},
   "outputs": [],
   "source": [
    "tinterp = interpolate.interp1d(delta,t,kind='cubic')\n",
    "Vinterp = interpolate.interp1d(delta_sim,V_sim,kind='cubic')\n",
    "Vpinterp = interpolate.interp1d(delta,Vp,kind='cubic')"
   ]
  },
  {
   "cell_type": "code",
   "execution_count": 78,
   "metadata": {},
   "outputs": [],
   "source": [
    "# Define energy list\n",
    "\n",
    "def gamma(s,a):\n",
    "    return (s*a - 1)/(a + 1)\n",
    "\n",
    "def term1(t,mu,s,a):\n",
    "    return (t + mu/6)\n",
    "\n",
    "def term2(t,mu,s,a):\n",
    "    return (t + mu/6)*(t - mu/6 + gamma(s,a))\n",
    "\n",
    "def term3(t,mu,s,a):\n",
    "    return 2*t + gamma(s,a)\n",
    "\n",
    "def e13(t,mu,s,a):\n",
    "    return -mu - 3/(a + 1)\n",
    "\n",
    "def e23(t,mu,s,a):\n",
    "    return -2*mu + (3*s*a - 6)/(a + 1)\n",
    "\n",
    "def e33(t,mu,s,a):\n",
    "    return -3*mu + 9*(s*a - 1)/(a + 1)\n",
    "\n",
    "def esf(t,mu,s,a):\n",
    "    return -9*(t + mu/6)**2/(2*t + gamma(s,a))\n",
    "\n",
    "def lst(t,mu,s,a):\n",
    "    if (term2(t,mu,s,a) > 0 \n",
    "        and 1 >= term1(t,mu,s,a)/term3(t,mu,s,a) \n",
    "        and term1(t,mu,s,a)/term3(t,mu,s,a) > 0):\n",
    "        return [e13(t,mu,s,a), e23(t,mu,s,a), e33(t,mu,s,a), esf(t,mu,s,a), 0.0]\n",
    "    else:\n",
    "        return [e13(t,mu,s,a), e23(t,mu,s,a), e33(t,mu,s,a), 999999.0, 0.0]\n",
    "\n",
    "def pref_state(t,mu,s,a):\n",
    "    return lst(t,mu,s,a).index(min(lst(t,mu,s,a)))"
   ]
  },
  {
   "cell_type": "code",
   "execution_count": 92,
   "metadata": {
    "scrolled": true
   },
   "outputs": [
    {
     "name": "stdout",
     "output_type": "stream",
     "text": [
      "1000\n",
      "1000\n",
      "1000\n",
      "2000\n"
     ]
    },
    {
     "data": {
      "image/png": "[encoded data removed]",
      "text/plain": [
       "<Figure size 432x288 with 4 Axes>"
      ]
     },
     "metadata": {
      "needs_background": "light"
     },
     "output_type": "display_data"
    }
   ],
   "source": [
    "nx = 1000\n",
    "ny = 2000\n",
    "delta_new = np.linspace(0, 0.3, nx)\n",
    "tnew = tinterp(delta_new)   # use interpolation function returned by `interp1d`\n",
    "Vnew = Vinterp(delta_new)\n",
    "Vpnew = Vpinterp(delta_new)\n",
    "fig, axs = plt.subplots(2, 2)\n",
    "axs[0,0].plot(delta, t, 'o', delta_new, tnew, '-')\n",
    "axs[0,1].plot(delta_sim, V_sim, 'o', delta_new, Vnew, '-')\n",
    "axs[1,0].plot(delta, Vp, 'o', delta_new, Vpnew, '-')\n",
    "a_lst = [-x/y if x>=0 else x/y for x, y in zip(Vnew,Vpnew)]\n",
    "s_lst = [1 if x>=0 else -1 for x in Vnew]\n",
    "norm = [x-y if x>=0 else -x-y for x, y in zip(Vnew,Vpnew)]\n",
    "mu_lst = np.linspace(-10,10,ny)\n",
    "tbar = [x/y for x, y in zip(tnew,norm)]\n",
    "\n",
    "print(len(a_lst))\n",
    "print(len(s_lst))\n",
    "print(len(tbar))\n",
    "print(len(mu_lst))"
   ]
  },
  {
   "cell_type": "code",
   "execution_count": 93,
   "metadata": {},
   "outputs": [
    {
     "name": "stdout",
     "output_type": "stream",
     "text": [
      "(2000, 1000)\n",
      "(2000, 1000)\n"
     ]
    }
   ],
   "source": [
    "mubar = np.zeros((ny,nx))\n",
    "data = np.zeros((ny,nx))\n",
    "print(np.shape(mubar))\n",
    "print(np.shape(data))\n",
    "for i in range(nx):\n",
    "    for j in range(ny):\n",
    "        mubar[j,i] = mu_lst[j]/norm[i]\n",
    "\n",
    "for i in range(nx):\n",
    "    for j in range(ny):\n",
    "        data[j,i] = pref_state(tbar[i],mubar[j,i],s_lst[i],a_lst[i])"
   ]
  },
  {
   "cell_type": "code",
   "execution_count": 101,
   "metadata": {},
   "outputs": [
    {
     "data": {
      "image/png": "[encoded data removed]",
      "text/plain": [
       "<Figure size 432x288 with 2 Axes>"
      ]
     },
     "metadata": {
      "needs_background": "light"
     },
     "output_type": "display_data"
    }
   ],
   "source": [
    "# cmap = plt.cm.get_cmap('Accent')\n",
    "cmap = plt.cm.get_cmap('viridis')\n",
    "\n",
    "colors = [cmap(i*0.3) for i in range(4)]\n",
    "\n",
    "fig, ax = plt.subplots()\n",
    "\n",
    "# X, Y = np.meshgrid(delta_new, mu_lst)\n",
    "p1 = ax.contourf(delta_new, mu_lst, data, 4, vmin = 0, vmax = 4)\n",
    "\n",
    "ax.set_title('Phase Diagram')\n",
    "ax.set_xlabel('strain (%)')\n",
    "ax.set_ylabel('mu (K)')\n",
    "\n",
    "cbar = fig.colorbar(p1)\n",
    "cbar.ax.set_ylabel('Phase Index')\n",
    "# Add the contour line levels to the colorbar\n",
    "# cbar.add_lines(p1)\n",
    "\n",
    "# plt.colorbar(p1)\n",
    "# cbar.ax.set_ylabel('verbosity coefficient')\n",
    "# # Add the contour line levels to the colorbar\n",
    "# cbar.add_lines(CS2)\n",
    "# plt.xlabel(\"strain (%)\")\n",
    "# plt.ylabel(\"mu\")\n",
    "plt.show()\n",
    "fig.savefig('phase_diagram_strain.png')"
   ]
  },
  {
   "cell_type": "code",
   "execution_count": null,
   "metadata": {},
   "outputs": [],
   "source": []
  }
 ],
 "metadata": {
  "kernelspec": {
   "display_name": "Python 3",
   "language": "python",
   "name": "python3"
  },
  "language_info": {
   "codemirror_mode": {
    "name": "ipython",
    "version": 3
   },
   "file_extension": ".py",
   "mimetype": "text/x-python",
   "name": "python",
   "nbconvert_exporter": "python",
   "pygments_lexer": "ipython3",
   "version": "3.8.5"
  }
 },
 "nbformat": 4,
 "nbformat_minor": 4
}
