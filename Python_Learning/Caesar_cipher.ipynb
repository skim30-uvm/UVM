{
 "cells": [
  {
   "cell_type": "code",
   "execution_count": 6,
   "metadata": {},
   "outputs": [],
   "source": [
    "# Caesar cipher - decrypting a message.\n",
    "def cipher():\n",
    "    target = input('Enter your cryptogram: ')\n",
    "    shift = input('Enter one of the intger numbers from 1 to 25: ')\n",
    "    text = ''\n",
    "    lower = [chr(code) for code in range(ord('a'),ord('z')+1)]\n",
    "    upper = [chr(code) for code in range(ord('A'),ord('Z')+1)]\n",
    "\n",
    "    try:\n",
    "        n = int(shift)\n",
    "        if n<1 or n>25:\n",
    "            print(\"  You didn't enter integer within 1-25  \")\n",
    "            return target\n",
    "    except:\n",
    "        print('      WARNING : invalid input')\n",
    "        return target\n",
    "\n",
    "    for char in target:\n",
    "        if not char.isalpha(): # check if letter is alphabet\n",
    "            text += char\n",
    "\n",
    "        elif char.isupper(): # check if letter is uppercase\n",
    "            idx = upper.index(char)\n",
    "            idx += int(shift) # shift index\n",
    "            while idx > len(upper): # validate index\n",
    "                idx -= len(upper)\n",
    "            text += upper[idx]\n",
    "        elif char.islower(): # check if letter is lowercase\n",
    "            idx = lower.index(char)\n",
    "            idx += int(shift) # shift index\n",
    "            while idx > len(lower): # validate index\n",
    "                idx -= len(lower)\n",
    "            text += lower[idx]\n",
    "        else:\n",
    "            continue\n",
    "    return text"
   ]
  },
  {
   "cell_type": "code",
   "execution_count": 7,
   "metadata": {},
   "outputs": [
    {
     "name": "stdout",
     "output_type": "stream",
     "text": [
      "Enter your cryptogram: Hello, World!\n",
      "Enter one of the intger numbers from 1 to 25: 7\n"
     ]
    },
    {
     "data": {
      "text/plain": [
       "'Olssv, Dvysk!'"
      ]
     },
     "execution_count": 7,
     "metadata": {},
     "output_type": "execute_result"
    }
   ],
   "source": [
    "cipher()"
   ]
  }
 ],
 "metadata": {
  "kernelspec": {
   "display_name": "Python 3",
   "language": "python",
   "name": "python3"
  },
  "language_info": {
   "codemirror_mode": {
    "name": "ipython",
    "version": 3
   },
   "file_extension": ".py",
   "mimetype": "text/x-python",
   "name": "python",
   "nbconvert_exporter": "python",
   "pygments_lexer": "ipython3",
   "version": "3.8.5"
  }
 },
 "nbformat": 4,
 "nbformat_minor": 4
}
