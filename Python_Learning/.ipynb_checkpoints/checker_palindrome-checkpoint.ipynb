{
 "cells": [
  {
   "cell_type": "code",
   "execution_count": 1,
   "metadata": {},
   "outputs": [],
   "source": [
    "def checker_palindrome():\n",
    "    tex_o = input(' enter the word to check: ') # input\n",
    "    tex_t = tex_o.replace(' ','')\n",
    "    tex_t = tex_t.upper() # translate text\n",
    "\n",
    "    if not tex_t.isalpha():\n",
    "        print('invalid word')\n",
    "        return False\n",
    "    else:\n",
    "        m = int(len(tex_t)/2)\n",
    "        tex_r = tex_t[:-m]  # building reference\n",
    "        text_b = tex_t[:m]  # building block\n",
    "        for i in range(m):\n",
    "            tex_r += text_b[-i-1]\n",
    "\n",
    "        if tex_r == tex_t:\n",
    "            print(tex_o, 'is palindrome')\n",
    "            return True\n",
    "        else:\n",
    "            print(tex_o, 'is NOT palindrome')\n",
    "            return False\n",
    "            \n"
   ]
  },
  {
   "cell_type": "code",
   "execution_count": 2,
   "metadata": {},
   "outputs": [
    {
     "name": "stdout",
     "output_type": "stream",
     "text": [
      " enter the word to check: pip Pip\n",
      "pip Pip is palindrome\n"
     ]
    },
    {
     "data": {
      "text/plain": [
       "True"
      ]
     },
     "execution_count": 2,
     "metadata": {},
     "output_type": "execute_result"
    }
   ],
   "source": [
    "checker_palindrome()"
   ]
  }
 ],
 "metadata": {
  "kernelspec": {
   "display_name": "Python 3",
   "language": "python",
   "name": "python3"
  },
  "language_info": {
   "codemirror_mode": {
    "name": "ipython",
    "version": 3
   },
   "file_extension": ".py",
   "mimetype": "text/x-python",
   "name": "python",
   "nbconvert_exporter": "python",
   "pygments_lexer": "ipython3",
   "version": "3.8.5"
  }
 },
 "nbformat": 4,
 "nbformat_minor": 4
}
