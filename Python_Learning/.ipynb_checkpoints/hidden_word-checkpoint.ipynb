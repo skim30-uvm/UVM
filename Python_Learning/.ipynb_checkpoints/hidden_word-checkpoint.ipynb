{
 "cells": [
  {
   "cell_type": "code",
   "execution_count": 1,
   "metadata": {},
   "outputs": [],
   "source": [
    "# This function give you True or False\n",
    "# by searching the word (1st input) sequence from the string (2nd input)\n",
    "# In other word, it checks if you can find the word\n",
    "# by removing characters in the string without changing order\n",
    "\n",
    "def hidden_word(word1, word2):\n",
    "    lst1 = [c for c in word1]\n",
    "    word2c = str(word2)\n",
    "    for x in lst1:\n",
    "        idx = word2c.find(x)\n",
    "        if idx == -1:\n",
    "            return False\n",
    "        else:\n",
    "            word2c = word2c[:idx]+word2c[idx+1:]\n",
    "    return True"
   ]
  },
  {
   "cell_type": "code",
   "execution_count": 5,
   "metadata": {},
   "outputs": [
    {
     "data": {
      "text/plain": [
       "True"
      ]
     },
     "execution_count": 5,
     "metadata": {},
     "output_type": "execute_result"
    }
   ],
   "source": [
    "hidden_word('donor',\n",
    "'Nabucodonosor')"
   ]
  },
  {
   "cell_type": "code",
   "execution_count": 4,
   "metadata": {},
   "outputs": [
    {
     "data": {
      "text/plain": [
       "False"
      ]
     },
     "execution_count": 4,
     "metadata": {},
     "output_type": "execute_result"
    }
   ],
   "source": [
    "hidden_word('donut',\n",
    "'Nabucodonosor')"
   ]
  }
 ],
 "metadata": {
  "kernelspec": {
   "display_name": "Python 3",
   "language": "python",
   "name": "python3"
  },
  "language_info": {
   "codemirror_mode": {
    "name": "ipython",
    "version": 3
   },
   "file_extension": ".py",
   "mimetype": "text/x-python",
   "name": "python",
   "nbconvert_exporter": "python",
   "pygments_lexer": "ipython3",
   "version": "3.8.5"
  }
 },
 "nbformat": 4,
 "nbformat_minor": 4
}
