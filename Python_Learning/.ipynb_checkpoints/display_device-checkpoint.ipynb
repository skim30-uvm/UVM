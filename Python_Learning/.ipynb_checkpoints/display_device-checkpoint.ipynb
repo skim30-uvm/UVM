{
 "cells": [
  {
   "cell_type": "code",
   "execution_count": 1,
   "metadata": {},
   "outputs": [
    {
     "name": "stdout",
     "output_type": "stream",
     "text": [
      "enter valid number: 213459876\n",
      "\n",
      " ###   # ### # # ### ### ### ### ###\n",
      "   #   #   # # # #   # # # #   # #  \n",
      " ###   # ### ### ### ### ###   # ###\n",
      " #     #   #   #   #   # # #   # # #\n",
      " ###   # ###   # ### ### ###   # ###\n"
     ]
    }
   ],
   "source": [
    "num = input(\"enter valid number: \")\n",
    "line1 = {1:\"  #\", 2:\"###\", 3:\"###\",\n",
    "         4:\"# #\", 5:\"###\", 6:\"###\",\n",
    "         7:\"###\", 8:\"###\", 9:\"###\", 0:\"###\"}\n",
    "line2 = {1:\"  #\", 2:\"  #\", 3:\"  #\",\n",
    "         4:\"# #\", 5:\"#  \", 6:\"#  \",\n",
    "         7:\"  #\", 8:\"# #\", 9:\"# #\", 0:\"# #\"}\n",
    "line3 = {1:\"  #\", 2:\"###\", 3:\"###\",\n",
    "         4:\"###\", 5:\"###\", 6:\"###\",\n",
    "         7:\"  #\", 8:\"###\", 9:\"###\", 0:\"# #\"}\n",
    "line4 = {1:\"  #\", 2:\"#  \", 3:\"  #\",\n",
    "         4:\"  #\", 5:\"  #\", 6:\"# #\",\n",
    "         7:\"  #\", 8:\"# #\", 9:\"  #\", 0:\"# #\"}\n",
    "line5 = {1:\"  #\", 2:\"###\", 3:\"###\",\n",
    "         4:\"  #\", 5:\"###\", 6:\"###\",\n",
    "         7:\"  #\", 8:\"###\", 9:\"###\", 0:\"###\"}\n",
    "\n",
    "pl = [\"\" for i in range(5)]\n",
    "\n",
    "if not num.isnumeric():\n",
    "    print(\"invalid input\")\n",
    "\n",
    "for n in num:\n",
    "    pl[0] = pl[0]+' '+line1[int(n)]\n",
    "    pl[1] = pl[1]+' '+line2[int(n)]\n",
    "    pl[2] = pl[2]+' '+line3[int(n)]\n",
    "    pl[3] = pl[3]+' '+line4[int(n)]\n",
    "    pl[4] = pl[4]+' '+line5[int(n)]\n",
    "    \n",
    "ptotal = ''\n",
    "for j in range(len(pl)):\n",
    "    ptotal = ptotal+'\\n'+pl[j]\n",
    "print(ptotal)"
   ]
  },
  {
   "cell_type": "code",
   "execution_count": 2,
   "metadata": {},
   "outputs": [
    {
     "name": "stdout",
     "output_type": "stream",
     "text": [
      "enter valid number: 1234567890\n",
      "   # ### ### # # ### ### ### ### ### ###\n",
      "   #   #   # # # #   #     # # # # # # #\n",
      "   # ### ### ### ### ###   # ### ### # #\n",
      "   # #     #   #   # # #   # # #   # # #\n",
      "   # ### ###   # ### ###   # ### ### ###\n"
     ]
    }
   ],
   "source": [
    "num = input(\"enter valid number: \")\n",
    "line1 = {1:\"  #\", 2:\"###\", 3:\"###\",\n",
    "         4:\"# #\", 5:\"###\", 6:\"###\",\n",
    "         7:\"###\", 8:\"###\", 9:\"###\", 0:\"###\"}\n",
    "line2 = {1:\"  #\", 2:\"  #\", 3:\"  #\",\n",
    "         4:\"# #\", 5:\"#  \", 6:\"#  \",\n",
    "         7:\"  #\", 8:\"# #\", 9:\"# #\", 0:\"# #\"}\n",
    "line3 = {1:\"  #\", 2:\"###\", 3:\"###\",\n",
    "         4:\"###\", 5:\"###\", 6:\"###\",\n",
    "         7:\"  #\", 8:\"###\", 9:\"###\", 0:\"# #\"}\n",
    "line4 = {1:\"  #\", 2:\"#  \", 3:\"  #\",\n",
    "         4:\"  #\", 5:\"  #\", 6:\"# #\",\n",
    "         7:\"  #\", 8:\"# #\", 9:\"  #\", 0:\"# #\"}\n",
    "line5 = {1:\"  #\", 2:\"###\", 3:\"###\",\n",
    "         4:\"  #\", 5:\"###\", 6:\"###\",\n",
    "         7:\"  #\", 8:\"###\", 9:\"###\", 0:\"###\"}\n",
    "\n",
    "pl = [\"\" for i in range(5)]\n",
    "\n",
    "if not num.isnumeric():\n",
    "    print(\"invalid input\")\n",
    "\n",
    "for n in num:\n",
    "    pl[0] = pl[0]+' '+line1[int(n)]\n",
    "    pl[1] = pl[1]+' '+line2[int(n)]\n",
    "    pl[2] = pl[2]+' '+line3[int(n)]\n",
    "    pl[3] = pl[3]+' '+line4[int(n)]\n",
    "    pl[4] = pl[4]+' '+line5[int(n)]\n",
    "    \n",
    "print(*pl,sep='\\n')"
   ]
  },
  {
   "cell_type": "code",
   "execution_count": null,
   "metadata": {},
   "outputs": [],
   "source": []
  }
 ],
 "metadata": {
  "kernelspec": {
   "display_name": "Python 3",
   "language": "python",
   "name": "python3"
  },
  "language_info": {
   "codemirror_mode": {
    "name": "ipython",
    "version": 3
   },
   "file_extension": ".py",
   "mimetype": "text/x-python",
   "name": "python",
   "nbconvert_exporter": "python",
   "pygments_lexer": "ipython3",
   "version": "3.8.5"
  }
 },
 "nbformat": 4,
 "nbformat_minor": 4
}
