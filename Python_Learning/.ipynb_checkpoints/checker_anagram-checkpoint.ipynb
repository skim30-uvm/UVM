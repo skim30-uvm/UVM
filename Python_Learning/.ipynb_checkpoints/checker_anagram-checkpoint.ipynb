{
 "cells": [
  {
   "cell_type": "code",
   "execution_count": 5,
   "metadata": {},
   "outputs": [],
   "source": [
    "def checker_anagram():\n",
    "    while True:\n",
    "        text1 = input(' enter the first word to check: ') # input1\n",
    "        if text1 != '':\n",
    "            print('[system] sucess')\n",
    "            break\n",
    "        print('enter something')\n",
    "    while True:\n",
    "        text2 = input(' enter the second word to check: ') # input2\n",
    "        if text2 != '':\n",
    "            print('[system] sucess')\n",
    "            break\n",
    "        print('enter something')\n",
    "\n",
    "    text1_t = text1.replace(' ','').upper()\n",
    "    text2_t = text2.replace(' ','').upper()\n",
    "\n",
    "    if not text1_t.isalpha() and text2_t.isalpha():\n",
    "        print('invalid words')\n",
    "        return False\n",
    "    else:\n",
    "        text1_l = [c for c in text1_t]\n",
    "        text1_l.sort()\n",
    "        text1_f = ''.join(text1_l)\n",
    "        text2_l = [c for c in text2_t]\n",
    "        text2_l.sort()\n",
    "        text2_f = ''.join(text2_l)\n",
    "        \n",
    "        if text1_f == text2_f:\n",
    "            print('Result:',text1,'and',text2,'are anagram.')\n",
    "            return True\n",
    "        else:\n",
    "            print('Result:',text1,'and',text2,'are NOT anagram.')\n",
    "            return False\n"
   ]
  },
  {
   "cell_type": "code",
   "execution_count": 6,
   "metadata": {},
   "outputs": [
    {
     "name": "stdout",
     "output_type": "stream",
     "text": [
      " enter the first word to check: listen\n",
      "[system] sucess\n",
      " enter the second word to check: slient\n",
      "[system] sucess\n",
      "Result: listen and slient are anagram.\n"
     ]
    },
    {
     "data": {
      "text/plain": [
       "True"
      ]
     },
     "execution_count": 6,
     "metadata": {},
     "output_type": "execute_result"
    }
   ],
   "source": [
    "checker_anagram()"
   ]
  }
 ],
 "metadata": {
  "kernelspec": {
   "display_name": "Python 3",
   "language": "python",
   "name": "python3"
  },
  "language_info": {
   "codemirror_mode": {
    "name": "ipython",
    "version": 3
   },
   "file_extension": ".py",
   "mimetype": "text/x-python",
   "name": "python",
   "nbconvert_exporter": "python",
   "pygments_lexer": "ipython3",
   "version": "3.8.5"
  }
 },
 "nbformat": 4,
 "nbformat_minor": 4
}
