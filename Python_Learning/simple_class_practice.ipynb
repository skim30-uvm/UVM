{
 "cells": [
  {
   "cell_type": "code",
   "execution_count": 1,
   "metadata": {},
   "outputs": [
    {
     "name": "stdout",
     "output_type": "stream",
     "text": [
      "23:59:59\n",
      "0:0:0\n",
      "23:59:59\n"
     ]
    }
   ],
   "source": [
    "class Timer:\n",
    "    def __init__(self,hh,mm,ss):\n",
    "        self.hr = hh\n",
    "        self.min = mm\n",
    "        self.sec = ss\n",
    "\n",
    "    def __str__(self):\n",
    "        return str(self.hr)+':'+str(self.min)+':'+str(self.sec)\n",
    "\n",
    "    def next_second(self):\n",
    "        self.sec += 1\n",
    "        self.min += self.sec // 60\n",
    "        self.hr += self.min // 60\n",
    "        self.sec = self.sec % 60\n",
    "        self.min = self.min % 60\n",
    "        self.hr = self.hr % 24\n",
    "\n",
    "    def prev_second(self):\n",
    "        self.sec -= 1\n",
    "        if self.sec == -1:\n",
    "            self.sec = 59\n",
    "            self.min -= 1\n",
    "        if self.min == -1:\n",
    "            self.min = 59\n",
    "            self.hr -= 1\n",
    "        if self.hr == -1:\n",
    "            self.hr = 23\n",
    "\n",
    "########################################################\n",
    "timer = Timer(23, 59, 59)\n",
    "print(timer)\n",
    "timer.next_second()\n",
    "print(timer)\n",
    "timer.prev_second()\n",
    "print(timer)"
   ]
  },
  {
   "cell_type": "code",
   "execution_count": null,
   "metadata": {},
   "outputs": [],
   "source": [
    "class WeekDayError(Exception):\n",
    "    pass\n",
    "\n",
    "class Weeker:\n",
    "    def __init__(self, day):\n",
    "        self.week = ['Mon','Tue','Wed','Thu','Fri','Sat','Sun']\n",
    "        self.current = day\n",
    "        if self.week.count(self.current) == 0:\n",
    "            raise WeekDayError\n",
    "        else:\n",
    "            self.idx = self.week.index(self.current)\n",
    "\n",
    "    def __str__(self):\n",
    "        return self.week[self.idx]\n",
    "\n",
    "    def add_days(self, n):\n",
    "        self.idx += n\n",
    "        self.idx %= 7\n",
    "\n",
    "    def subtract_days(self, n):\n",
    "        self.idx -= n\n",
    "        self.idx %= 7\n",
    "\n",
    "#############################################\n",
    "\n",
    "try:\n",
    "    weekday = Weeker('Mon')\n",
    "    print(weekday)\n",
    "    weekday.add_days(15)\n",
    "    print(weekday)\n",
    "    weekday.subtract_days(23)\n",
    "    print(weekday)\n",
    "    weekday = Weeker('Monday')\n",
    "except WeekDayError:\n",
    "    print(\"Sorry, I can't serve your request.\")\n"
   ]
  }
 ],
 "metadata": {
  "kernelspec": {
   "display_name": "Python 3",
   "language": "python",
   "name": "python3"
  },
  "language_info": {
   "codemirror_mode": {
    "name": "ipython",
    "version": 3
   },
   "file_extension": ".py",
   "mimetype": "text/x-python",
   "name": "python",
   "nbconvert_exporter": "python",
   "pygments_lexer": "ipython3",
   "version": "3.8.5"
  }
 },
 "nbformat": 4,
 "nbformat_minor": 4
}
