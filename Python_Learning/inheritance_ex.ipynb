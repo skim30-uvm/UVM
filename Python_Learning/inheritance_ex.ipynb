{
 "cells": [
  {
   "cell_type": "code",
   "execution_count": 1,
   "metadata": {},
   "outputs": [],
   "source": [
    "# A parameterless function named super() returns a reference to the nearest superclass of the class.\n",
    "# class Mouse:\n",
    "#     def __str__(self):\n",
    "#         return \"Mouse\"\n",
    "\n",
    "\n",
    "# class LabMouse(Mouse):\n",
    "#     def __str__(self):\n",
    "#         return \"Laboratory \" + super().__str__()\n",
    "\n",
    "\n",
    "# doctor_mouse = LabMouse();\n",
    "# print(doctor_mouse)  # Prints \"Laboratory Mouse\"."
   ]
  },
  {
   "cell_type": "code",
   "execution_count": 2,
   "metadata": {},
   "outputs": [
    {
     "name": "stdout",
     "output_type": "stream",
     "text": [
      "Hi, my name is Professor Mouser 1\n"
     ]
    }
   ],
   "source": [
    "class Mouse:\n",
    "    Population = 0\n",
    "    def __init__(self, name):\n",
    "        Mouse.Population += 1\n",
    "        self.name = name\n",
    "\n",
    "    def __str__(self):\n",
    "        return \"Hi, my name is \" + self.name\n",
    "\n",
    "class LabMouse(Mouse):\n",
    "    pass\n",
    "\n",
    "professor_mouse = LabMouse(\"Professor Mouser\")\n",
    "print(professor_mouse, Mouse.Population)  # Prints \"Hi, my name is Professor Mouser 1\""
   ]
  },
  {
   "cell_type": "code",
   "execution_count": 3,
   "metadata": {},
   "outputs": [
    {
     "name": "stdout",
     "output_type": "stream",
     "text": [
      "Hi, my name is Professor Mouser 2\n"
     ]
    }
   ],
   "source": [
    "professor_mouse = LabMouse(\"Professor Mouser\")\n",
    "print(professor_mouse, Mouse.Population)  # Prints \"Hi, my name is Professor Mouser 1\""
   ]
  },
  {
   "cell_type": "code",
   "execution_count": 4,
   "metadata": {},
   "outputs": [
    {
     "name": "stdout",
     "output_type": "stream",
     "text": [
      "Meum nomen est Caesar\n"
     ]
    }
   ],
   "source": [
    "#If any of the subclasses defines a method/class variable/instance variable of the same name \n",
    "#as existing in the superclass, the new name overrides any of the previous instances of the name. \n",
    "\n",
    "class Mouse:\n",
    "    def __init__(self, name):\n",
    "        self.name = name\n",
    "\n",
    "    def __str__(self):\n",
    "        return \"My name is \" + self.name\n",
    "\n",
    "class AncientMouse(Mouse):\n",
    "    def __str__(self):\n",
    "        return \"Meum nomen est \" + self.name\n",
    "\n",
    "mus = AncientMouse(\"Caesar\")  # Prints \"Meum nomen est Caesar\"\n",
    "print(mus)"
   ]
  },
  {
   "cell_type": "code",
   "execution_count": 5,
   "metadata": {},
   "outputs": [],
   "source": [
    "class Dog:\n",
    "    kennel = 0\n",
    "    def __init__(self, breed):\n",
    "        self.breed = breed\n",
    "        Dog.kennel += 1\n",
    "    def __str__(self):\n",
    "        return self.breed + \" says: Woof!\"\n",
    "\n",
    "\n",
    "class SheepDog(Dog):\n",
    "    def __str__(self):\n",
    "        return super().__str__() + \" Don't run away, Little Lamb!\"\n",
    "\n",
    "\n",
    "class GuardDog(Dog):\n",
    "    def __str__(self):\n",
    "        return super().__str__() + \" Stay where you are, Mister Intruder!\"\n",
    "\n",
    "\n",
    "rocky = SheepDog(\"Collie\")\n",
    "luna = GuardDog(\"Dobermann\")\n"
   ]
  },
  {
   "cell_type": "code",
   "execution_count": 6,
   "metadata": {},
   "outputs": [
    {
     "name": "stdout",
     "output_type": "stream",
     "text": [
      "Collie says: Woof! Don't run away, Little Lamb!\n",
      "Dobermann says: Woof! Stay where you are, Mister Intruder!\n"
     ]
    }
   ],
   "source": [
    "print(rocky)\n",
    "print(luna)"
   ]
  }
 ],
 "metadata": {
  "kernelspec": {
   "display_name": "Python 3",
   "language": "python",
   "name": "python3"
  },
  "language_info": {
   "codemirror_mode": {
    "name": "ipython",
    "version": 3
   },
   "file_extension": ".py",
   "mimetype": "text/x-python",
   "name": "python",
   "nbconvert_exporter": "python",
   "pygments_lexer": "ipython3",
   "version": "3.8.5"
  }
 },
 "nbformat": 4,
 "nbformat_minor": 4
}
