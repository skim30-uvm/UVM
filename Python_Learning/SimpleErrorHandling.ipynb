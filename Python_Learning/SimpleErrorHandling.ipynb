{
 "cells": [
  {
   "cell_type": "code",
   "execution_count": 1,
   "metadata": {},
   "outputs": [
    {
     "name": "stdout",
     "output_type": "stream",
     "text": [
      "Enter a number from -10 to 10: 100\n",
      "Error: not within range\n",
      "Enter a number from -10 to 10: tt\n",
      "Error: wrong input\n",
      "Enter a number from -10 to 10: 7\n",
      "The number is: 7\n"
     ]
    }
   ],
   "source": [
    "def read_int(prompt, min, max):\n",
    "    #\n",
    "    rule1 = 1\n",
    "    while rule1:\n",
    "        try:\n",
    "            num = input(prompt)\n",
    "            num = int(num)\n",
    "            assert num>min and num<max\n",
    "            rule1 = 0\n",
    "            return num\n",
    "        except ValueError:\n",
    "            print('Error: wrong input')\n",
    "            \n",
    "        except:\n",
    "            print('Error: not within range')\n",
    "            \n",
    "    #\n",
    "\n",
    "\n",
    "v = read_int(\"Enter a number from -10 to 10: \", -10, 10)\n",
    "\n",
    "print(\"The number is:\", v)"
   ]
  }
 ],
 "metadata": {
  "kernelspec": {
   "display_name": "Python 3",
   "language": "python",
   "name": "python3"
  },
  "language_info": {
   "codemirror_mode": {
    "name": "ipython",
    "version": 3
   },
   "file_extension": ".py",
   "mimetype": "text/x-python",
   "name": "python",
   "nbconvert_exporter": "python",
   "pygments_lexer": "ipython3",
   "version": "3.8.5"
  }
 },
 "nbformat": 4,
 "nbformat_minor": 4
}
