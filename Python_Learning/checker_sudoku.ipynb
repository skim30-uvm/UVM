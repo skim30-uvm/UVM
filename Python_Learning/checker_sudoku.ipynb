{
 "cells": [
  {
   "cell_type": "code",
   "execution_count": 27,
   "metadata": {},
   "outputs": [],
   "source": [
    "# This function checks the 9 row numbers (list)\n",
    "# if they follow three rules in Sudoku.\n",
    "\n",
    "# 1. each row of the board must contain all digits from 0 to 9 \n",
    "# (the order doesn't matter)\n",
    "# 2. each column of the board must contain all digits from 0 to 9 \n",
    "# (again, the order doesn't matter)\n",
    "# 3. each of the nine 3x3 \"tiles\" (we will name them \"sub-squares\") \n",
    "# of the table must contain all digits from 0 to 9.\n",
    "\n",
    "def checker_sudoku(lst):\n",
    "    if len(lst) != 9:\n",
    "        print('WARNING: number of row is not 9')\n",
    "        return False\n",
    "    for i in range(9):\n",
    "        if isinstance(lst[i],int):\n",
    "            lst[i] = str(lst[i])\n",
    "            if not lst[i].isnumeric():\n",
    "                return False\n",
    "    print('Precheck passed')\n",
    "    nums = '123456789'\n",
    "    sample = [n for n in nums]\n",
    "    for el in lst:\n",
    "        test1 = [n for n in el]\n",
    "        test1.sort()\n",
    "        if not test1 == sample:\n",
    "            print('Violate Rule 1')\n",
    "            return False\n",
    "    print('Rule 1 passed')\n",
    "        \n",
    "    for col in range(9):\n",
    "        test2 = []\n",
    "        for row in range(9):\n",
    "            test2.append(lst[row][col])\n",
    "        test2.sort()\n",
    "        if not test2 == sample:\n",
    "            print('Violate Rule 2')\n",
    "            return False\n",
    "    print('Rule 2 passed')\n",
    "    \n",
    "    for sub in range(9):\n",
    "        test3 = []\n",
    "        for i in range(3):\n",
    "            for j in range(3):\n",
    "                x = 3*(sub%3) + i\n",
    "                y = 3*(sub//3) + j\n",
    "                test3.append(lst[x][y])\n",
    "        test3.sort()\n",
    "        if not test3 == sample:\n",
    "            print('Violate Rule 3')\n",
    "            return False\n",
    "    print('Rule 3 passed')\n",
    "    \n",
    "    return True"
   ]
  },
  {
   "cell_type": "code",
   "execution_count": 28,
   "metadata": {},
   "outputs": [
    {
     "name": "stdout",
     "output_type": "stream",
     "text": [
      "Precheck passed\n",
      "Rule 1 passed\n",
      "Rule 2 passed\n",
      "Rule 3 passed\n"
     ]
    },
    {
     "data": {
      "text/plain": [
       "True"
      ]
     },
     "execution_count": 28,
     "metadata": {},
     "output_type": "execute_result"
    }
   ],
   "source": [
    "# Test 1\n",
    "lst1 = ['295743861',\n",
    " '431865927',\n",
    " '876192543',\n",
    " '387459216',\n",
    " '612387495',\n",
    " '549216738',\n",
    " '763524189',\n",
    " '928671354',\n",
    " '154938672']\n",
    "checker_sudoku(lst1)"
   ]
  },
  {
   "cell_type": "code",
   "execution_count": 29,
   "metadata": {},
   "outputs": [
    {
     "name": "stdout",
     "output_type": "stream",
     "text": [
      "Precheck passed\n",
      "Rule 1 passed\n",
      "Rule 2 passed\n",
      "Violate Rule 3\n"
     ]
    },
    {
     "data": {
      "text/plain": [
       "False"
      ]
     },
     "execution_count": 29,
     "metadata": {},
     "output_type": "execute_result"
    }
   ],
   "source": [
    "# Test 2\n",
    "lst2 = [195743862,\n",
    "431865927,\n",
    "876192543,\n",
    "387459216,\n",
    "612387495,\n",
    "549216738,\n",
    "763524189,\n",
    "928671354,\n",
    "254938671]\n",
    "checker_sudoku(lst2)"
   ]
  }
 ],
 "metadata": {
  "kernelspec": {
   "display_name": "Python 3",
   "language": "python",
   "name": "python3"
  },
  "language_info": {
   "codemirror_mode": {
    "name": "ipython",
    "version": 3
   },
   "file_extension": ".py",
   "mimetype": "text/x-python",
   "name": "python",
   "nbconvert_exporter": "python",
   "pygments_lexer": "ipython3",
   "version": "3.8.5"
  }
 },
 "nbformat": 4,
 "nbformat_minor": 4
}
