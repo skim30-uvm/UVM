{
 "cells": [
  {
   "cell_type": "code",
   "execution_count": 31,
   "metadata": {},
   "outputs": [],
   "source": [
    "import numpy as np\n",
    "import matplotlib.pyplot as plt"
   ]
  },
  {
   "cell_type": "code",
   "execution_count": 51,
   "metadata": {},
   "outputs": [],
   "source": [
    "def displace(Path,α,i,δ=0.25):\n",
    "    '''Single bead displace update.\n",
    "    \n",
    "       NB: not implemented for periodic boundary conditions.\n",
    "    '''\n",
    "    # Calculate the action\n",
    "    x = Path.beads[α,i]\n",
    "    oldAction = Path.kinetic_action(α,i) + Path.potential_action(α)\n",
    "\n",
    "    # Displace the bead\n",
    "    Path.beads[α,i] += δ*(-1.0 + 2.0*np.random.random())\n",
    "\n",
    "    # Compute the new action\n",
    "    newAction = Path.kinetic_action(α,i) + Path.potential_action(α)\n",
    "    \n",
    "    # Accept the move, or reject and restore the bead position\n",
    "    if np.random.random() < np.exp(-(newAction - oldAction)):\n",
    "        return True\n",
    "    else:\n",
    "        Path.beads[α,i] = x\n",
    "        return False"
   ]
  },
  {
   "cell_type": "code",
   "execution_count": 52,
   "metadata": {},
   "outputs": [],
   "source": [
    "def staging(Path,m,i):\n",
    "    '''Multi-slice update which eactly samples the free particle \n",
    "       propagator between two fixed beads.\n",
    "\n",
    "       See: http://link.aps.org/doi/10.1103/PhysRevB.31.4234\n",
    "    \n",
    "       NB: not implemented for periodic boundary conditions.\n",
    "    '''\n",
    "    # choose the start and end of the stage\n",
    "    α_start = np.random.randint(low=0,high=Path.num_time_slices)\n",
    "    α_end = α_start + m\n",
    "    \n",
    "    # if we move off the end of the path, reject the move\n",
    "    if α_end >= Path.num_time_slices:\n",
    "        return False\n",
    "\n",
    "    # Record the positions of the beads to be updated and store the action\n",
    "    x = np.copy(Path.beads[α_start+1:α_end,i])\n",
    "    oldAction = 0.0\n",
    "    for α in range(α_start+1,α_end):\n",
    "        oldAction += Path.potential_action(α)\n",
    "\n",
    "    # Generate new positions and accumulate the new action\n",
    "    newAction = 0.0;\n",
    "    for α in range(α_start+1,α_end):\n",
    "        Δτ1 = Path.Δτ   \n",
    "        Δτ2 = (α_end - α)*Path.Δτ\n",
    "        avex = (Δτ2*Path.beads[α-1,i] + Δτ1*Path.beads[α_end,i])\\\n",
    "                / (Δτ1 + Δτ2)\n",
    "        σ = np.sqrt(2.0*Path.λ / (1.0/Δτ1 + 1.0/Δτ2))\n",
    "        Path.beads[α,i] = np.random.normal(loc=avex,scale=σ)\n",
    "        newAction += Path.potential_action(α)\n",
    "\n",
    "    # Perform the Metropolis step, if we reject, revert the worldline\n",
    "    if np.random.random() < np.exp(-(newAction - oldAction)):\n",
    "        return True\n",
    "    else:\n",
    "        Path.beads[α_start+1:α_end,i] = x\n",
    "        return False"
   ]
  },
  {
   "cell_type": "code",
   "execution_count": 34,
   "metadata": {},
   "outputs": [],
   "source": [
    "def find_idx(array, value):\n",
    "    array = np.asarray(array)\n",
    "    idx = (np.abs(array - value)).argmin()\n",
    "    return idx\n",
    "\n"
   ]
  },
  {
   "cell_type": "code",
   "execution_count": 55,
   "metadata": {},
   "outputs": [
    {
     "data": {
      "text/plain": [
       "33"
      ]
     },
     "execution_count": 55,
     "metadata": {},
     "output_type": "execute_result"
    }
   ],
   "source": [
    "int(80/2.4)"
   ]
  },
  {
   "cell_type": "code",
   "execution_count": 56,
   "metadata": {},
   "outputs": [],
   "source": [
    "def pigs(num_MC_steps,num_equil_steps,Path,m=28):\n",
    "    '''Perform a path integral ground state Monte Carlo simulation.'''\n",
    "\n",
    "    # set up m\n",
    "    m = int(M/2.4)\n",
    "    \n",
    "    # grid for density\n",
    "    num_grid = 60\n",
    "    grid_x = np.linspace(-2, 2, num_grid)\n",
    "    drho = 1/num_grid/(num_MC_steps-num_equil_steps)\n",
    "    \n",
    "    # initialize estimators and acceptance counters\n",
    "    numAccept = {'displace':0,'staging':0}\n",
    "    estimator = {'E':np.zeros(num_MC_steps-num_equil_steps),\n",
    "                 'Vslice':np.zeros([num_MC_steps-num_equil_steps,Path.num_time_slices]), \n",
    "                 'density':np.zeros((Path.num_time_slices, num_grid)), \n",
    "                 'integrate':np.zeros(3)}\n",
    "    \n",
    "\n",
    "\n",
    "    measure = 0\n",
    "    for step in range(num_MC_steps): \n",
    "        \n",
    "        # for each particle and slice try a displace move\n",
    "        for α in range(Path.num_time_slices):\n",
    "            for i in range(Path.N):\n",
    "                numAccept['displace'] += displace(Path,α,i)\n",
    "\n",
    "        # for each particle try a number of staging moves\n",
    "        num_stage = int(Path.num_time_slices/m)\n",
    "        for stage in range(num_stage):\n",
    "            for i in range(Path.N): \n",
    "                numAccept['staging'] += staging(Path,m,i)\n",
    "\n",
    "        # measure the energy\n",
    "        if step >= num_equil_steps:\n",
    "            measure = step-num_equil_steps\n",
    "            estimator['E'][measure],estimator['Vslice'][measure] = Path.Energy()\n",
    "            \n",
    "            # store bead for a sigle particle\n",
    "            for α in range(Path.num_time_slices):\n",
    "                idx = find_idx(grid_x,Path.beads[α,0])\n",
    "                estimator['density'][α, idx] += drho\n",
    "            \n",
    "    # density lower half state\n",
    "    lowerhalf = estimator['density'][:M-1, :]\n",
    "    lowerhalf = lowerhalf.mean(axis=0)\n",
    "    lhsqure = np.asarray([lf*lf for lf in lowerhalf])\n",
    "    lhsum = lhsqure.sum()\n",
    "    lhnorm = np.asarray([lf/np.sqrt(lhsum) for lf in lowerhalf])\n",
    "    #upper half\n",
    "    upperhalf = estimator['density'][M+1:, :]\n",
    "    upperhalf = upperhalf.mean(axis=0) \n",
    "    uhsqure = np.asarray([uf*uf for uf in upperhalf])\n",
    "    uhsum = uhsqure.sum()\n",
    "    uhnorm = np.asarray([uf/np.sqrt(uhsum) for uf in upperhalf])\n",
    "    \n",
    "    #corr\n",
    "    corr_lflf = lhnorm * lhnorm\n",
    "    integral_lflf = corr_lflf.sum()\n",
    "    corr_ufuf = uhnorm * uhnorm\n",
    "    integral_ufuf = corr_ufuf.sum()\n",
    "    corr_lfuf = lhnorm * uhnorm\n",
    "    integral_lfuf = corr_lfuf.sum()\n",
    "    estimator['integrate'][0] = integral_lflf\n",
    "    estimator['integrate'][1] = integral_ufuf\n",
    "    estimator['integrate'][2] = integral_lfuf\n",
    "    \n",
    "    print('displace: %4.3f' %\n",
    "          ((1.0*numAccept['displace'])/(num_MC_steps*Path.num_time_slices*Path.N)))\n",
    "    print('staging:  %4.3f' %\n",
    "          ((1.0*numAccept['staging'])/(num_MC_steps*Path.N*num_stage)))\n",
    "    print('lflf: %4.3f' % integral_lflf)\n",
    "    print('ufuf: %4.3f' % integral_ufuf)\n",
    "    print('lfuf: %4.3f' % integral_lfuf)\n",
    "    \n",
    "    return estimator"
   ]
  },
  {
   "cell_type": "code",
   "execution_count": 58,
   "metadata": {},
   "outputs": [],
   "source": [
    "class Paths:\n",
    "    '''The set of worldlines, action and estimators.'''\n",
    "    def __init__(self,beads,M,Δτ,λ,V0,Δe,ω1,a,b):\n",
    "        self.Δτ = Δτ\n",
    "        self.λ = λ\n",
    "        self.M = M\n",
    "        self.beads = np.copy(beads)\n",
    "        self.num_time_slices = len(beads)\n",
    "        self.N = len(beads[0])\n",
    "        self.V0 = V0\n",
    "        self.Δe = Δe\n",
    "        self.ω1 = ω1\n",
    "        self.a = a\n",
    "        self.b = b\n",
    "        self.norm = np.ones(self.num_time_slices)\n",
    "        \n",
    "        self.norm[0] = self.norm[-1] = 0.5\n",
    "\n",
    "        \n",
    "    def V(self,α,x):\n",
    "        '''non-symmetric left weighted well for lower half, right weighted well for upper half'''\n",
    "        a = self.a\n",
    "        b = self.b\n",
    "        v = 0\n",
    "    \n",
    "        if (-b-a<x<-b+a):\n",
    "            if α-self.M > 0.9:\n",
    "                v = self.Δe*(1.0)\n",
    "        elif (b-a<x<+b+a):\n",
    "            if α-self.M < -0.9:\n",
    "                v = self.Δe*(1.0)\n",
    "        else:\n",
    "            v = self.V0\n",
    "    \n",
    "#        '''non-symmetric left weighted well for lower half'''\n",
    "#        if (-b-a<x<-b+a):\n",
    "#            v = 0\n",
    "#        elif (b-a<x<+b+a):\n",
    "#            if α-self.M < -0.9:\n",
    "#                v = self.Δe*(1.0)\n",
    "#        else:\n",
    "#            v = self.V0\n",
    "        \n",
    "#        '''non-symmetric right weighted well for upper half'''\n",
    "#        if (-b-a<x<-b+a):\n",
    "#            if α-self.M > 0.9:\n",
    "#                v = self.Δe*(1.0)\n",
    "#        elif (b-a<x<+b+a):\n",
    "#            v = 0\n",
    "#        else:\n",
    "#            v = self.V0\n",
    "        \n",
    "        return v\n",
    "    \n",
    "    def Vint(self, xi, xj):\n",
    "        '''harmonic interaction potential'''\n",
    "        ω = self.ω1\n",
    "        return ω*ω*(xi-xj)**2 /(4.0*self.λ)\n",
    "    \n",
    "    def Ψ(self, xi, xj):\n",
    "        '''trial wave function'''\n",
    "        psi = 5.0/5.0*(1.0/np.cosh(np.sqrt(np.pi/2)*(xi+b)/a)+1.0/np.cosh(np.sqrt(np.pi/2)*(xi-b)/a))\n",
    "        return psi\n",
    "    \n",
    "    def kinetic_action(self,α,i):\n",
    "        '''kinetic action of a bead.'''\n",
    "        \n",
    "        if α == 0.0:\n",
    "            cK = (self.beads[α+1,i]-self.beads[α,i])**2\n",
    "        elif α == 2*self.M:\n",
    "            cK = (self.beads[α,i]-self.beads[α-1,i])**2\n",
    "        else:\n",
    "            cK = (self.beads[α,i]-self.beads[α-1,i])**2 + (self.beads[α+1,i]-self.beads[α,i])**2\n",
    "        return cK / (4*self.λ*self.Δτ)\n",
    "\n",
    "    def potential_action(self,α):\n",
    "        '''potential action of a slice.'''\n",
    "        cV = 0.0\n",
    "        ΨT = 1.0\n",
    "            \n",
    "        for i in range(self.N):\n",
    "            xi = self.beads[α,i]\n",
    "            cV += self.norm[α]*self.V(α,xi)\n",
    "            \n",
    "            for j in range(self.N):\n",
    "                xj = self.beads[α,j]\n",
    "                if i<j:\n",
    "                    cV += self.norm[α]*self.Vint(xi, xj)    \n",
    "                # add the wavefunction at the ends of the path\n",
    "                if α == 0 or α == 2*self.M:\n",
    "                    ΨT *= self.Ψ(xi, xj)\n",
    "                \n",
    "        return self.Δτ*cV - np.log(ΨT)\n",
    "    \n",
    "\n",
    "    def Energy(self):\n",
    "        '''The total energy.'''\n",
    "                \n",
    "        # the kinetic part\n",
    "        norm = 1.0/(4.0*self.λ*self.Δτ**2)\n",
    "        KE = 0\n",
    "        for α in range(self.M-1, self.M+1):\n",
    "            for i in range(self.N):\n",
    "                ΔR = self.beads[α+1,i] - self.beads[α,i]\n",
    "                KE +=  - norm*np.dot(ΔR,ΔR)\n",
    "                \n",
    "        KE /= 2\n",
    "        KE += 0.5*self.N/self.Δτ\n",
    "        \n",
    "        # the potential part\n",
    "        PE = 0.0\n",
    "        Vslice = np.zeros(self.num_time_slices)\n",
    "        for α in range(self.M-1, self.M+1):\n",
    "            for i in range(self.N):\n",
    "                cV = self.V(α,self.beads[α,i])\n",
    "                for j in range(self.N):\n",
    "                    if i<j:\n",
    "                        cV += self.Vint(self.beads[α,i], self.beads[α,j])\n",
    "                Vslice[α] += cV\n",
    "                PE += self.norm[α]*cV\n",
    "        \n",
    "        PE /= 2\n",
    "        \n",
    "        return KE + PE, Vslice\n",
    "    \n"
   ]
  },
  {
   "cell_type": "markdown",
   "metadata": {},
   "source": [
    "    def Vleft_o(self,α,x):\n",
    "        '''non-symmetric left weighted well for lower half'''\n",
    "        a = self.a\n",
    "        b = self.b\n",
    "        v = 0\n",
    "        if (-b-a<x<-b+a):\n",
    "            v = 0\n",
    "        elif (b-a<x<+b+a):\n",
    "            if α-self.M < -0.9:\n",
    "                v = self.Δe*(1.0)\n",
    "        else:\n",
    "            v = self.V0\n",
    "        return v\n",
    "\n",
    "    def Vright_o(self,α,x):\n",
    "        '''non-symmetric right weighted well for upper half'''\n",
    "        a = self.a\n",
    "        b = self.b\n",
    "        v = 0\n",
    "        if (-b-a<x<-b+a):\n",
    "            if α-self.M > 0.9:\n",
    "                v = self.Δe*(1.0)\n",
    "        elif (b-a<x<+b+a):\n",
    "            v = 0\n",
    "        else:\n",
    "            v = self.V0\n",
    "        return v\n",
    "    \n",
    "    def one(self):\n",
    "        '''one'''     \n",
    "        return 1, 1"
   ]
  },
  {
   "cell_type": "code",
   "execution_count": 8,
   "metadata": {
    "scrolled": false
   },
   "outputs": [
    {
     "name": "stdout",
     "output_type": "stream",
     "text": [
      "displace: 0.450\n",
      "staging:  0.287\n",
      "Ē = 1.098744 ± 0.015895\n"
     ]
    },
    {
     "data": {
      "image/png": "[encoded data removed]",
      "text/plain": [
       "<Figure size 432x288 with 1 Axes>"
      ]
     },
     "metadata": {
      "needs_background": "light"
     },
     "output_type": "display_data"
    }
   ],
   "source": [
    "# setup the simulation for [single well]\n",
    "M,N,τ,λ,V0,Δe,ω1,a,b = 60,1,6.0,0.5,2.0,0,0,0.5,0\n",
    "Δτ = τ/M\n",
    "\n",
    "# random initial positions\n",
    "np.random.seed(1173)\n",
    "beads = -0.5 + np.random.random([2*M+1,N])\n",
    "\n",
    "# setup the paths\n",
    "Path = Paths(beads,M,Δτ,λ,V0,Δe,ω1,a,b)\n",
    "\n",
    "# compute the energy via path integral ground state Monte Carlo\n",
    "num_MC_steps = 100000\n",
    "num_equil_steps = 20000\n",
    "estimator = pigs(num_MC_steps,num_equil_steps,Path)\n",
    "\n",
    "from scipy.stats import sem\n",
    "Ē,ΔĒ = np.average(estimator['E']),sem(estimator['E'])\n",
    "V̄slice,ΔV̄slice = np.average(estimator['Vslice'],axis=0),sem(estimator['Vslice'],axis=0)\n",
    "one = \n",
    "\n",
    "# grid for density\n",
    "num_grid = 60\n",
    "grid_x = np.linspace(-2, 2, num_grid)\n",
    "drho = 1/num_grid/(num_MC_steps-num_equil_steps)\n",
    "plt.plot(grid_x ,estimator['density'][0,:])\n",
    "plt.plot(grid_x ,estimator['density'][2*M,:])\n",
    "\n",
    "print('Ē = %f ± %f' % (Ē,ΔĒ))\n",
    "E_single = [float(Ē),float(ΔĒ)]"
   ]
  },
  {
   "cell_type": "code",
   "execution_count": 9,
   "metadata": {},
   "outputs": [
    {
     "name": "stdout",
     "output_type": "stream",
     "text": [
      "Ē = 1.080130 ± 0.018378\n"
     ]
    }
   ],
   "source": [
    "from scipy.stats import sem\n",
    "Ē,ΔĒ = np.average(estimator['E'][20000:]),sem(estimator['E'][20000:])\n",
    "print('Ē = %f ± %f' % (Ē,ΔĒ))"
   ]
  },
  {
   "cell_type": "code",
   "execution_count": 10,
   "metadata": {},
   "outputs": [],
   "source": [
    "def cumulativeMovingAverage(data):\n",
    "    '''Compute the cumulative mean as a function of bin index.'''\n",
    "    CMA = np.zeros_like(data)\n",
    "    CMA[0] = data[0]\n",
    "    for n in range(len(data)-1):\n",
    "        CMA[n+1] = (data[n+1] + n*CMA[n])/(1.0*(n+1))\n",
    "    return CMA\n",
    "\n",
    "cumave = cumulativeMovingAverage(estimator['E'])"
   ]
  },
  {
   "cell_type": "code",
   "execution_count": 11,
   "metadata": {
    "scrolled": true
   },
   "outputs": [
    {
     "data": {
      "text/plain": [
       "[<matplotlib.lines.Line2D at 0x7f59d464ecd0>]"
      ]
     },
     "execution_count": 11,
     "metadata": {},
     "output_type": "execute_result"
    },
    {
     "data": {
      "image/png": "[encoded data removed]",
      "text/plain": [
       "<Figure size 432x288 with 1 Axes>"
      ]
     },
     "metadata": {
      "needs_background": "light"
     },
     "output_type": "display_data"
    }
   ],
   "source": [
    "plt.plot(cumave[20000:])"
   ]
  },
  {
   "cell_type": "code",
   "execution_count": 16,
   "metadata": {},
   "outputs": [
    {
     "name": "stdout",
     "output_type": "stream",
     "text": [
      "[ 6.  8. 10. 12. 14. 16.]\n",
      "[60, 80, 100, 120, 140, 160]\n",
      "[32, 43, 54, 64, 75, 86]\n"
     ]
    }
   ],
   "source": [
    "τ_array = np.linspace(6,16,6)\n",
    "M = [int(i*10.0) for i in τ_array]\n",
    "m = [int(i/1.85) for i in M]\n",
    "print(τ_array)\n",
    "print(M)\n",
    "print(m)"
   ]
  },
  {
   "cell_type": "code",
   "execution_count": 17,
   "metadata": {},
   "outputs": [
    {
     "name": "stdout",
     "output_type": "stream",
     "text": [
      "displace: 0.450\n",
      "staging:  0.287\n",
      "displace: 0.449\n",
      "staging:  0.206\n"
     ]
    },
    {
     "ename": "KeyboardInterrupt",
     "evalue": "",
     "output_type": "error",
     "traceback": [
      "\u001b[0;31m---------------------------------------------------------------------------\u001b[0m",
      "\u001b[0;31mKeyboardInterrupt\u001b[0m                         Traceback (most recent call last)",
      "\u001b[0;32m<ipython-input-17-659d4b9a50b6>\u001b[0m in \u001b[0;36m<module>\u001b[0;34m\u001b[0m\n\u001b[1;32m     21\u001b[0m     \u001b[0mnum_MC_steps\u001b[0m \u001b[0;34m=\u001b[0m \u001b[0;36m100000\u001b[0m\u001b[0;34m\u001b[0m\u001b[0;34m\u001b[0m\u001b[0m\n\u001b[1;32m     22\u001b[0m     \u001b[0mnum_equil_steps\u001b[0m \u001b[0;34m=\u001b[0m \u001b[0;36m20000\u001b[0m\u001b[0;34m\u001b[0m\u001b[0;34m\u001b[0m\u001b[0m\n\u001b[0;32m---> 23\u001b[0;31m     \u001b[0mestimator\u001b[0m \u001b[0;34m=\u001b[0m \u001b[0mpigs\u001b[0m\u001b[0;34m(\u001b[0m\u001b[0mnum_MC_steps\u001b[0m\u001b[0;34m,\u001b[0m\u001b[0mnum_equil_steps\u001b[0m\u001b[0;34m,\u001b[0m\u001b[0mPath\u001b[0m\u001b[0;34m)\u001b[0m\u001b[0;34m\u001b[0m\u001b[0;34m\u001b[0m\u001b[0m\n\u001b[0m\u001b[1;32m     24\u001b[0m \u001b[0;34m\u001b[0m\u001b[0m\n\u001b[1;32m     25\u001b[0m     \u001b[0;32mfrom\u001b[0m \u001b[0mscipy\u001b[0m\u001b[0;34m.\u001b[0m\u001b[0mstats\u001b[0m \u001b[0;32mimport\u001b[0m \u001b[0msem\u001b[0m\u001b[0;34m\u001b[0m\u001b[0;34m\u001b[0m\u001b[0m\n",
      "\u001b[0;32m<ipython-input-6-859124e784c8>\u001b[0m in \u001b[0;36mpigs\u001b[0;34m(num_MC_steps, num_equil_steps, Path, m)\u001b[0m\n\u001b[1;32m     24\u001b[0m         \u001b[0;32mfor\u001b[0m \u001b[0mα\u001b[0m \u001b[0;32min\u001b[0m \u001b[0mrange\u001b[0m\u001b[0;34m(\u001b[0m\u001b[0mPath\u001b[0m\u001b[0;34m.\u001b[0m\u001b[0mnum_time_slices\u001b[0m\u001b[0;34m)\u001b[0m\u001b[0;34m:\u001b[0m\u001b[0;34m\u001b[0m\u001b[0;34m\u001b[0m\u001b[0m\n\u001b[1;32m     25\u001b[0m             \u001b[0;32mfor\u001b[0m \u001b[0mi\u001b[0m \u001b[0;32min\u001b[0m \u001b[0mrange\u001b[0m\u001b[0;34m(\u001b[0m\u001b[0mPath\u001b[0m\u001b[0;34m.\u001b[0m\u001b[0mN\u001b[0m\u001b[0;34m)\u001b[0m\u001b[0;34m:\u001b[0m\u001b[0;34m\u001b[0m\u001b[0;34m\u001b[0m\u001b[0m\n\u001b[0;32m---> 26\u001b[0;31m                 \u001b[0mnumAccept\u001b[0m\u001b[0;34m[\u001b[0m\u001b[0;34m'displace'\u001b[0m\u001b[0;34m]\u001b[0m \u001b[0;34m+=\u001b[0m \u001b[0mdisplace\u001b[0m\u001b[0;34m(\u001b[0m\u001b[0mPath\u001b[0m\u001b[0;34m,\u001b[0m\u001b[0mα\u001b[0m\u001b[0;34m,\u001b[0m\u001b[0mi\u001b[0m\u001b[0;34m)\u001b[0m\u001b[0;34m\u001b[0m\u001b[0;34m\u001b[0m\u001b[0m\n\u001b[0m\u001b[1;32m     27\u001b[0m \u001b[0;34m\u001b[0m\u001b[0m\n\u001b[1;32m     28\u001b[0m         \u001b[0;31m# for each particle try a number of staging moves\u001b[0m\u001b[0;34m\u001b[0m\u001b[0;34m\u001b[0m\u001b[0;34m\u001b[0m\u001b[0m\n",
      "\u001b[0;32m<ipython-input-2-486b61500b37>\u001b[0m in \u001b[0;36mdisplace\u001b[0;34m(Path, α, i, δ)\u001b[0m\n\u001b[1;32m      6\u001b[0m     \u001b[0;31m# Calculate the action\u001b[0m\u001b[0;34m\u001b[0m\u001b[0;34m\u001b[0m\u001b[0;34m\u001b[0m\u001b[0m\n\u001b[1;32m      7\u001b[0m     \u001b[0mx\u001b[0m \u001b[0;34m=\u001b[0m \u001b[0mPath\u001b[0m\u001b[0;34m.\u001b[0m\u001b[0mbeads\u001b[0m\u001b[0;34m[\u001b[0m\u001b[0mα\u001b[0m\u001b[0;34m,\u001b[0m\u001b[0mi\u001b[0m\u001b[0;34m]\u001b[0m\u001b[0;34m\u001b[0m\u001b[0;34m\u001b[0m\u001b[0m\n\u001b[0;32m----> 8\u001b[0;31m     \u001b[0moldAction\u001b[0m \u001b[0;34m=\u001b[0m \u001b[0mPath\u001b[0m\u001b[0;34m.\u001b[0m\u001b[0mkinetic_action\u001b[0m\u001b[0;34m(\u001b[0m\u001b[0mα\u001b[0m\u001b[0;34m,\u001b[0m\u001b[0mi\u001b[0m\u001b[0;34m)\u001b[0m \u001b[0;34m+\u001b[0m \u001b[0mPath\u001b[0m\u001b[0;34m.\u001b[0m\u001b[0mpotential_action\u001b[0m\u001b[0;34m(\u001b[0m\u001b[0mα\u001b[0m\u001b[0;34m)\u001b[0m\u001b[0;34m\u001b[0m\u001b[0;34m\u001b[0m\u001b[0m\n\u001b[0m\u001b[1;32m      9\u001b[0m \u001b[0;34m\u001b[0m\u001b[0m\n\u001b[1;32m     10\u001b[0m     \u001b[0;31m# Displace the bead\u001b[0m\u001b[0;34m\u001b[0m\u001b[0;34m\u001b[0m\u001b[0;34m\u001b[0m\u001b[0m\n",
      "\u001b[0;32m<ipython-input-7-c1fd75d2a75d>\u001b[0m in \u001b[0;36mpotential_action\u001b[0;34m(self, α)\u001b[0m\n\u001b[1;32m     71\u001b[0m                     \u001b[0mΨT\u001b[0m \u001b[0;34m*=\u001b[0m \u001b[0mself\u001b[0m\u001b[0;34m.\u001b[0m\u001b[0mΨ\u001b[0m\u001b[0;34m(\u001b[0m\u001b[0mxi\u001b[0m\u001b[0;34m,\u001b[0m \u001b[0mxj\u001b[0m\u001b[0;34m)\u001b[0m\u001b[0;34m\u001b[0m\u001b[0;34m\u001b[0m\u001b[0m\n\u001b[1;32m     72\u001b[0m \u001b[0;34m\u001b[0m\u001b[0m\n\u001b[0;32m---> 73\u001b[0;31m         \u001b[0;32mreturn\u001b[0m \u001b[0mself\u001b[0m\u001b[0;34m.\u001b[0m\u001b[0mΔτ\u001b[0m\u001b[0;34m*\u001b[0m\u001b[0mcV\u001b[0m \u001b[0;34m-\u001b[0m \u001b[0mnp\u001b[0m\u001b[0;34m.\u001b[0m\u001b[0mlog\u001b[0m\u001b[0;34m(\u001b[0m\u001b[0mΨT\u001b[0m\u001b[0;34m)\u001b[0m\u001b[0;34m\u001b[0m\u001b[0;34m\u001b[0m\u001b[0m\n\u001b[0m\u001b[1;32m     74\u001b[0m \u001b[0;34m\u001b[0m\u001b[0m\n\u001b[1;32m     75\u001b[0m \u001b[0;34m\u001b[0m\u001b[0m\n",
      "\u001b[0;31mKeyboardInterrupt\u001b[0m: "
     ]
    }
   ],
   "source": [
    "τ_array = np.linspace(6,16,6)\n",
    "\n",
    "Ē_array_τ = np.zeros(6)\n",
    "ΔĒ_array_τ = np.zeros(6)\n",
    "\n",
    "for τi in range(len(τ_array)):\n",
    "    # setup the simulation\n",
    "    N,λ,V0,Δe,ω1,a,b = 1,0.5,2.0,0,0,0.5,0\n",
    "    M = int(τ_array[τi]*10.0)\n",
    "    τ = τ_array[τi]\n",
    "    Δτ = τ/M\n",
    "\n",
    "    # random initial positions\n",
    "    np.random.seed(1173)\n",
    "    beads = -0.5 + np.random.random([2*M+1,N])\n",
    "\n",
    "    # setup the paths\n",
    "    Path = Paths(beads,M,Δτ,λ,V0,Δe,ω1,a,b)\n",
    "\n",
    "    # compute the energy via path integral ground state Monte Carlo\n",
    "    num_MC_steps = 100000\n",
    "    num_equil_steps = 20000\n",
    "    estimator = pigs(num_MC_steps,num_equil_steps,Path)\n",
    "\n",
    "    from scipy.stats import sem\n",
    "    Ē,ΔĒ = np.average(estimator['E']),sem(estimator['E'])\n",
    "    V̄slice,ΔV̄slice = np.average(estimator['Vslice'],axis=0),sem(estimator['Vslice'],axis=0)\n",
    "\n",
    "    Ē_array_τ[τi] = Ē\n",
    "    ΔĒ_array_τ[τi] = ΔĒ"
   ]
  },
  {
   "cell_type": "code",
   "execution_count": null,
   "metadata": {},
   "outputs": [],
   "source": [
    "plt.axhline(y=1.09249, color='green', linewidth=1.0, label='Exact')\n",
    "plt.errorbar(τ_array, Ē_array_τ, yerr=ΔĒ_array_τ, marker='o', color='blue', \n",
    "             linewidth=1.0, elinewidth=1.0, markersize=6, markerfacecolor='blue', markeredgecolor='blue', \n",
    "             ecolor='blue', label='QMC')\n",
    "plt.xlabel(r'$\\tau$')\n",
    "plt.ylabel('E')\n",
    "plt.legend();"
   ]
  },
  {
   "cell_type": "code",
   "execution_count": 59,
   "metadata": {
    "scrolled": true
   },
   "outputs": [
    {
     "name": "stdout",
     "output_type": "stream",
     "text": [
      "displace: 0.780\n",
      "staging:  0.306\n",
      "lflf: 1.000\n",
      "ufuf: 1.000\n",
      "lfuf: 0.137\n",
      "Ē = 0.875189 ± 0.054838\n"
     ]
    },
    {
     "data": {
      "image/png": "[encoded data removed]",
      "text/plain": [
       "<Figure size 432x288 with 1 Axes>"
      ]
     },
     "metadata": {
      "needs_background": "light"
     },
     "output_type": "display_data"
    }
   ],
   "source": [
    "# setup the simulation for [double well]\n",
    "M,N,τ,λ,V0,Δe,ω1,a,b = 80,1,8.0,0.5,2.0,2,0,0.5,1\n",
    "Δτ = τ/M\n",
    "\n",
    "# random initial positions\n",
    "np.random.seed(1173)\n",
    "beads = -0.5 + np.random.random([2*M+1,N])\n",
    "\n",
    "# setup the paths\n",
    "Path = Paths(beads,M,Δτ,λ,V0,Δe,ω1,a,b)\n",
    "\n",
    "# compute the energy via path integral ground state Monte Carlo\n",
    "num_MC_steps = 10000\n",
    "num_equil_steps = 1000\n",
    "estimator = pigs(num_MC_steps,num_equil_steps,Path)\n",
    "\n",
    "from scipy.stats import sem\n",
    "Ē,ΔĒ = np.average(estimator['E']),sem(estimator['E'])\n",
    "V̄slice,ΔV̄slice = np.average(estimator['Vslice'],axis=0),sem(estimator['Vslice'],axis=0)\n",
    "\n",
    "# grid for density\n",
    "num_grid = 60\n",
    "grid_x = np.linspace(-2, 2, num_grid)\n",
    "drho = 1/num_grid/(num_MC_steps-num_equil_steps)\n",
    "plt.plot(grid_x ,estimator['density'][0,:])\n",
    "plt.plot(grid_x ,estimator['density'][2*M,:])\n",
    "\n",
    "print('Ē = %f ± %f' % (Ē,ΔĒ))\n",
    "E_double = [float(Ē),float(ΔĒ)]"
   ]
  },
  {
   "cell_type": "code",
   "execution_count": 15,
   "metadata": {
    "scrolled": true
   },
   "outputs": [
    {
     "name": "stdout",
     "output_type": "stream",
     "text": [
      "0.3079999077341899\n"
     ]
    }
   ],
   "source": [
    "# Analytic form of 𝛿 is shown below\n",
    "# Em is analytic solution of the equation below (Same with E_single_well)\n",
    "def delta(Path):\n",
    "    Em = 1.09249\n",
    "    return 4*(V0-Em)*Em*np.exp(-2*(b-a)*np.sqrt((V0-Em)/λ))/V0/(a*np.sqrt((V0-Em)/λ) +1)\n",
    "\n",
    "approx = delta(Path)\n",
    "print(approx)"
   ]
  },
  {
   "cell_type": "markdown",
   "metadata": {},
   "source": [
    "\\begin{equation}\n",
    "\\sqrt{V-E_{m}}=\\sqrt{E_{m}}\\tan\\left(\\sqrt{E_{m}/\\lambda}a\\right)\n",
    "\\end{equation}\n",
    "\\begin{equation}\n",
    "\\delta=4\\frac{\\left(V-E_{m}\\right)E_{m}e^{-2\\left(b-a\\right)\\sqrt{\\left(V-E_{m}\\right)/\\lambda}}}{V\\left(a\\sqrt{\\left(V-E_{m}\\right)/\\lambda}+1\\right)}\n",
    "\\end{equation}"
   ]
  },
  {
   "cell_type": "code",
   "execution_count": 18,
   "metadata": {
    "scrolled": true
   },
   "outputs": [
    {
     "name": "stdout",
     "output_type": "stream",
     "text": [
      "PIGS result:  0.1491379053264701\n",
      "Analytic result:  0.3079999077341899\n"
     ]
    }
   ],
   "source": [
    "print(\"PIGS result: \",E_single[0]-E_double[0])\n",
    "print(\"Analytic result: \", approx)"
   ]
  },
  {
   "cell_type": "markdown",
   "metadata": {},
   "source": [
    "from sympy import symbols, solve, sqrt, tan\n",
    "import math\n",
    "\n",
    "def sol(Path):\n",
    "    x = symbols('x')\n",
    "    #a1 = np.sqrt(V0-Em)\n",
    "    #a2 = np.sqrt(Em)*math.tan(np.sqrt(Em/λ)*a)\n",
    "    expr = sqrt(V0-x) - sqrt(x)*tan(sqrt(x/λ)*a)\n",
    "    sol = solve(expr)\n",
    "    return sol\n",
    "\n",
    "solution = sol(Path)\n",
    "print(solution)"
   ]
  },
  {
   "cell_type": "markdown",
   "metadata": {},
   "source": [
    "def hist()\n",
    "    for step in range(num_MC_steps): \n",
    "        \n",
    "        # for each slice save location\n",
    "        for α in range(Path.num_time_slices):\n",
    "            \n",
    "\n",
    "\n",
    "        # measure the energy\n",
    "        if step >= num_equil_steps:\n",
    "            measure = step-num_equil_steps\n",
    "            estimator['E'][measure],estimator['Vslice'][measure] = Path.Energy()"
   ]
  }
 ],
 "metadata": {
  "kernelspec": {
   "display_name": "Python 3",
   "language": "python",
   "name": "python3"
  },
  "language_info": {
   "codemirror_mode": {
    "name": "ipython",
    "version": 3
   },
   "file_extension": ".py",
   "mimetype": "text/x-python",
   "name": "python",
   "nbconvert_exporter": "python",
   "pygments_lexer": "ipython3",
   "version": "3.8.5"
  }
 },
 "nbformat": 4,
 "nbformat_minor": 2
}
