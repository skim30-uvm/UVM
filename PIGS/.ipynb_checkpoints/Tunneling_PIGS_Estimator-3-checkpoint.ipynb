{
 "cells": [
  {
   "cell_type": "code",
   "execution_count": 1,
   "metadata": {},
   "outputs": [],
   "source": [
    "import numpy as np\n",
    "import matplotlib.pyplot as plt"
   ]
  },
  {
   "cell_type": "code",
   "execution_count": 2,
   "metadata": {},
   "outputs": [],
   "source": [
    "def displace(Path,α,i,δ=0.5):\n",
    "    '''Single bead displace update.\n",
    "    \n",
    "       NB: not implemented for periodic boundary conditions.\n",
    "    '''\n",
    "    # Calculate the action\n",
    "    x = Path.beads[α,i]\n",
    "    oldAction = Path.kinetic_action(α,i) + Path.potential_action(α)\n",
    "\n",
    "    # Displace the bead\n",
    "    Path.beads[α,i] += δ*(-1.0 + 2.0*np.random.random())\n",
    "\n",
    "    # Compute the new action\n",
    "    newAction = Path.kinetic_action(α,i) + Path.potential_action(α)\n",
    "    \n",
    "    # Accept the move, or reject and restore the bead position\n",
    "    if np.random.random() < np.exp(-(newAction - oldAction)):\n",
    "        return True\n",
    "    else:\n",
    "        Path.beads[α,i] = x\n",
    "        return False"
   ]
  },
  {
   "cell_type": "code",
   "execution_count": 3,
   "metadata": {},
   "outputs": [],
   "source": [
    "def inst_swap(Path,i):\n",
    "    # Calculate the action\n",
    "    '''Due to the reflection symmetry, the potential action does not affect change in action'''\n",
    "    \n",
    "    x = Path.beads[M,i]\n",
    "    oldAction = Path.kinetic_action(M,i)\n",
    "    \n",
    "    # teleport the bead at the central slices\n",
    "    Path.beads[M,i] = -1.0*x\n",
    "    \n",
    "    # Compute the new action\n",
    "    newAction = Path.kinetic_action(M,i)\n",
    "    \n",
    "    # Accept the move, or reject and restore the bead position\n",
    "    if np.random.random() < np.exp(-(newAction - oldAction)):\n",
    "        return True\n",
    "    else:\n",
    "        Path.beads[M,i] = x\n",
    "        return False"
   ]
  },
  {
   "cell_type": "code",
   "execution_count": 4,
   "metadata": {},
   "outputs": [],
   "source": [
    "def staging(Path,m,i):\n",
    "    '''Multi-slice update which eactly samples the free particle \n",
    "       propagator between two fixed beads.\n",
    "\n",
    "       See: http://link.aps.org/doi/10.1103/PhysRevB.31.4234\n",
    "    \n",
    "       NB: not implemented for periodic boundary conditions.\n",
    "    '''\n",
    "    # choose the start and end of the stage\n",
    "    α_start = np.random.randint(low=0,high=Path.num_time_slices)\n",
    "    α_end = α_start + m\n",
    "    \n",
    "    # if we move off the end of the path, reject the move\n",
    "    if α_end >= Path.num_time_slices:\n",
    "        return False\n",
    "    \n",
    "    # if M is between start and end, set one of them according to their distance\n",
    "    if α_end >= M and M >= α_start:\n",
    "        return False\n",
    "#         if α_end - M > (M-1) - α_start:\n",
    "#             α_start = M\n",
    "    \n",
    "#         elif α_end - M <= (M-1) - α_start:\n",
    "#             α_end = M-1\n",
    "    \n",
    "\n",
    "    # Record the positions of the beads to be updated and store the action\n",
    "    x = np.copy(Path.beads[α_start+1:α_end,i])\n",
    "    oldAction = 0.0\n",
    "    for α in range(α_start+1,α_end):\n",
    "        oldAction += Path.potential_action(α)\n",
    "\n",
    "    # Generate new positions and accumulate the new action\n",
    "    newAction = 0.0;\n",
    "    for α in range(α_start+1,α_end):\n",
    "        Δτ1 = Path.Δτ   \n",
    "        Δτ2 = (α_end - α)*Path.Δτ\n",
    "        avex = (Δτ2*Path.beads[α-1,i] + Δτ1*Path.beads[α_end,i])\\\n",
    "                / (Δτ1 + Δτ2)\n",
    "        σ = np.sqrt(2.0*Path.λ / (1.0/Δτ1 + 1.0/Δτ2))\n",
    "        Path.beads[α,i] = np.random.normal(loc=avex,scale=σ)\n",
    "        newAction += Path.potential_action(α)\n",
    "\n",
    "    # Perform the Metropolis step, if we reject, revert the worldline\n",
    "    if np.random.random() < np.exp(-(newAction - oldAction)):\n",
    "        return True\n",
    "    else:\n",
    "        Path.beads[α_start+1:α_end,i] = x\n",
    "        return False"
   ]
  },
  {
   "cell_type": "code",
   "execution_count": 5,
   "metadata": {},
   "outputs": [],
   "source": [
    "# Find close position index\n",
    "def find_idx(array, value):\n",
    "    array = np.asarray(array)\n",
    "    idx = (np.abs(array - value)).argmin()\n",
    "    return idx"
   ]
  },
  {
   "cell_type": "code",
   "execution_count": 6,
   "metadata": {},
   "outputs": [],
   "source": [
    "class Paths:\n",
    "    '''The set of worldlines, action and estimators.'''\n",
    "    def __init__(self,beads,M,Δτ,λ,V_def,ω1,a,b,V0):\n",
    "        self.Δτ = Δτ\n",
    "        self.λ = λ\n",
    "        self.M = M\n",
    "        self.beads = np.copy(beads)\n",
    "        self.num_time_slices = len(beads)\n",
    "        self.N = len(beads[0])\n",
    "        self.V_def = V_def\n",
    "        self.ω1 = ω1\n",
    "        self.a = a\n",
    "        self.b = b\n",
    "        self.V0 = V0\n",
    "        \n",
    "        self.norm = np.ones(self.num_time_slices)\n",
    "        self.norm[0] = self.norm[-1] = 0.5\n",
    "#         self.norm[M-1] = self.norm[M] = 0.5\n",
    "\n",
    "    def V(self,α,x):\n",
    "        return self.V_def(self.a, self.b, self.V0, α,x)\n",
    "    \n",
    "    def Vat(self,x):\n",
    "        at = -2.0\n",
    "        at += V0/(1+np.exp(-10*(b-a+x)))+2/(1+np.exp(-10*(-x-(b+a))))\n",
    "        at += V0/(1+np.exp(-10*(b-a-x)))+2/(1+np.exp(-10*(x-(b+a))))\n",
    "        return at\n",
    "    \n",
    "    def dVright(self,x):\n",
    "        # V0=2.0 a=0.5 b=1.0 case\n",
    "        dVr = 0\n",
    "        dVr += -20/(np.exp(10*(0.5 - x)) *(1 + np.exp(-10*(0.5 - x)))**2)\n",
    "        dVr += 20/(np.exp(10*(-1.5 + x)) *(1 + np.exp(-10*(-1.5 + x)))**2)\n",
    "#         term1 = -1.0*(aV0*100*np.exp(-100*(cb-ca-x)))/(1+np.exp(-100*(cb-ca-x)))^2\n",
    "#         term2 = (aV0*100*np.exp(-100*(x-(b+a))))/(1 + np.exp(-100*(x-(b+a))))^2\n",
    "        return dVr\n",
    "    \n",
    "    def ddVright(self,x):\n",
    "        ddVr = 0\n",
    "        ddVr += (-4.40529*10**6 *np.exp(10*x) + 29682.6 *np.exp(20*x))/(148.413 + np.exp(10*x))**3\n",
    "        ddVr += (2.137295*10**15 *np.exp(10*x) - 6.538035*10**8 *np.exp(20*x))/(3.269017*10**6 + np.exp(10*x))**3\n",
    "#         aV0=self.V0\n",
    "#         ca=self.a\n",
    "#         cb=self.b\n",
    "#         term1 = (aV0*10000*np.exp(50)*(np.exp(200*x) - np.exp(50 + 100*x)))/(np.exp(50) + np.exp(100*x))**3\n",
    "#         term2 = -1.0*(aV0*10000*np.exp(100*x)*(-np.exp(300) + np.exp(150+100*x)))/(np.exp(150) + np.exp(100*x))**3\n",
    "        return ddVr\n",
    "\n",
    "    def dVleft(self,x):\n",
    "        # V0=2.0 a=0.5 b=1.0 case\n",
    "        dVr = 0\n",
    "        dVr += 20/(np.exp(10*(0.5 + x)) *(1 + np.exp(-10*(0.5 + x)))**2)\n",
    "        dVr += -20/(np.exp(10*(-1.5 - x)) *(1 + np.exp(-10*(-1.5 - x)))**2)\n",
    "#         term1 = -1.0*(aV0*100*np.exp(-100*(cb-ca-x)))/(1+np.exp(-100*(cb-ca-x)))^2\n",
    "#         term2 = (aV0*100*np.exp(-100*(x-(b+a))))/(1 + np.exp(-100*(x-(b+a))))^2\n",
    "        return dVr\n",
    "    \n",
    "    def ddVleft(self,x):\n",
    "        ddVr = 0\n",
    "        ddVr += (-1.32961*np.sinh(5*x) - 1.31181*np.cosh(5*x))/(0.986614*np.sinh(5*x) + np.cosh(5*x))**3\n",
    "        ddVr += (0.0000611804*np.sinh(5*x) +0.0000611804*np.cosh(5*x))/(0.999999*np.sinh(5*x) + np.cosh(5*x))**3\n",
    "#         aV0=self.V0\n",
    "#         ca=self.a\n",
    "#         cb=self.b\n",
    "#         term1 = (aV0*10000*np.exp(50)*(np.exp(200*x) - np.exp(50 + 100*x)))/(np.exp(50) + np.exp(100*x))**3\n",
    "#         term2 = -1.0*(aV0*10000*np.exp(100*x)*(-np.exp(300) + np.exp(150+100*x)))/(np.exp(150) + np.exp(100*x))**3\n",
    "        return ddVr\n",
    "        \n",
    "    def Vint(self, xi, xj):\n",
    "        '''harmonic interaction potential'''\n",
    "        ωint = self.ω1\n",
    "        return ωint*ωint*(xi-xj)**2 /(4.0*self.λ)\n",
    "    \n",
    "    def Ψ(self, xi, xj):\n",
    "        '''trial wave function'''\n",
    "        psi = 0.747*(np.exp(-1*((xi-1)**2)/0.5)+np.exp(-1*((xi+1)**2)/0.5))\n",
    "        return psi\n",
    "    \n",
    "    def kinetic_action(self,α,i):\n",
    "        '''kinetic action of a bead.'''\n",
    "        \n",
    "        if α == 0:\n",
    "            cK = (self.beads[α+1,i]-self.beads[α,i])**2\n",
    "        elif α == 2*self.M:\n",
    "            cK = (self.beads[α,i]-self.beads[α-1,i])**2\n",
    "        else:\n",
    "            cK = (self.beads[α,i]-self.beads[α-1,i])**2 + (self.beads[α+1,i]-self.beads[α,i])**2\n",
    "        return cK / (4*self.λ*self.Δτ)\n",
    "\n",
    "    def potential_action(self,α):\n",
    "        '''potential action of a slice.'''\n",
    "        cV = 0.0\n",
    "        ΨT = 1.0\n",
    "            \n",
    "        for i in range(self.N):\n",
    "            \n",
    "            xi = self.beads[α,i]\n",
    "            cV += self.norm[α]*self.V(α,xi)\n",
    "            \n",
    "            for j in range(self.N):\n",
    "                xj = self.beads[α,j]\n",
    "                if i<j:\n",
    "                    cV += self.norm[α]*self.Vint(xi, xj)    \n",
    "                # add the wavefunction at the ends of the path\n",
    "                if α == 0 or α == 2*self.M-1:\n",
    "                    ΨT *= self.Ψ(xi, xj)\n",
    "                \n",
    "        return self.Δτ*cV - np.log(ΨT)\n",
    "    \n",
    "\n",
    "    def Energy(self):\n",
    "        '''The total energy.'''\n",
    "                \n",
    "        # the kinetic part\n",
    "        norm2 = 1.0/(4.0*self.λ*self.Δτ**2)\n",
    "        KE = 0.0\n",
    "        KEslice = np.zeros(self.num_time_slices)\n",
    "        counter = 0\n",
    "        M = self.M\n",
    "        for α in range(self.num_time_slices-1):\n",
    "            for i in range(self.N):\n",
    "                counter += 1\n",
    "                ΔR = self.beads[α+1,i] - self.beads[α,i]\n",
    "                KEslice[α] +=  - norm2*np.dot(ΔR,ΔR)\n",
    "            KEslice[α] += 0.5*self.N/self.Δτ\n",
    "        for α in range(M-1, M+1):\n",
    "            KE += KEslice[α]\n",
    "        KE /= 2\n",
    "        \n",
    "        \n",
    "        # the potential part\n",
    "#         PE = 0.0\n",
    "        cV = 0.0\n",
    "        counter2 = 0\n",
    "        PE = self.Vat(self.beads[M,0])\n",
    "        PE -= (self.beads[M,0]-self.beads[M-1,0])*(self.dVright(self.beads[M,0]))/4\n",
    "        PE -= (self.beads[M,0]-self.beads[M+1,0])*(self.dVleft(self.beads[M,0]))/4\n",
    "        PE += self.λ*self.Δτ*(self.ddVright(self.beads[M,0])+self.ddVleft(self.beads[M,0]))/4\n",
    "        PE -= self.λ*((self.dVright(self.beads[M,0]))**2+(self.dVleft(self.beads[M,0]))**2)/4*self.Δτ**2\n",
    "        Vslice = np.zeros(self.num_time_slices)\n",
    "        for α in range(self.num_time_slices):\n",
    "            for i in range(self.N):\n",
    "                counter2 += 1\n",
    "                cV = self.V(α,self.beads[α,i])\n",
    "#                 if α == 0.0:\n",
    "#                     cV -= (self.beads[α+1,i]-self.beads[α,i])/2*(self.dV(self.beads[α,i]))/2\n",
    "#                     cV += self.λ*self.Δτ*(self.ddV(self.beads[α,i]))/2\n",
    "#                     cV -= self.λ*((self.dV(self.beads[α,i]))**2)/2*self.Δτ**2\n",
    "#                 elif α == 2*self.M:\n",
    "#                     cV -= (self.beads[α,i]-self.beads[α-1,i])/2*(self.dV(self.beads[α,i]))/2\n",
    "#                     cV += self.λ*self.Δτ*(self.ddV(self.beads[α,i]))/2\n",
    "#                     cV -= self.λ*((self.dV(self.beads[α,i]))**2)/2*self.Δτ**2\n",
    "#                 else:\n",
    "#                     cV -= (self.beads[α+1,i]-self.beads[α-1,i])/2*(self.dV(self.beads[α,i])+self.dV(self.beads[α,i]))/2\n",
    "#                     cV += self.λ*self.Δτ*(self.ddV(self.beads[α,i])+self.ddV(self.beads[α,i]))/2\n",
    "#                     cV -= self.λ*((self.dV(self.beads[α,i]))**2+(self.dV(self.beads[α,i]))**2)/2*self.Δτ**2\n",
    "#                 for j in range(self.N):\n",
    "#                     if i<j:\n",
    "#                         cV += self.Vint(self.beads[α,i], self.beads[α,j])\n",
    "                Vslice[α] += cV\n",
    "#                 PE += cV\n",
    "                \n",
    "        \n",
    "#         PE /= counter2\n",
    "               \n",
    "        \n",
    "        return KE + PE, Vslice"
   ]
  },
  {
   "cell_type": "code",
   "execution_count": 7,
   "metadata": {},
   "outputs": [],
   "source": [
    "def pigs(num_MC_steps,num_equil_steps,Path):\n",
    "    '''Perform a path integral ground state Monte Carlo simulation.'''\n",
    "\n",
    "    # set up m\n",
    "    m = int(M*0.4)\n",
    "    \n",
    "    # grid for density\n",
    "    num_grid = 500\n",
    "    grid_x = np.linspace(-5.0, 5.0, num_grid)\n",
    "    drho = 1/num_grid/(num_MC_steps-num_equil_steps)\n",
    "    \n",
    "    # initialize estimators and acceptance counters\n",
    "    numAccept = {'displace':0,'staging':0,'inst_swap':0}\n",
    "    estimator = {'E':np.zeros(num_MC_steps-num_equil_steps),\n",
    "                 'Vslice':np.zeros([num_MC_steps-num_equil_steps,Path.num_time_slices]), \n",
    "                 'density':np.zeros((Path.num_time_slices, num_grid))}\n",
    "    \n",
    "\n",
    "\n",
    "    measure = 0\n",
    "    for step in range(num_MC_steps): \n",
    "        \n",
    "        # for each particle and slice try a displace move\n",
    "        for α in range(Path.num_time_slices):\n",
    "            for i in range(Path.N):\n",
    "                numAccept['displace'] += displace(Path,α,i,0.4)\n",
    "        \n",
    "        # for each particle and the central slice try a tunneling move (pre-process)\n",
    "        for i in range(Path.N):\n",
    "            numAccept['inst_swap'] += inst_swap(Path,i)\n",
    "                \n",
    "        # for each particle try a number of staging moves\n",
    "        num_stage = int(Path.num_time_slices/m)\n",
    "        for stage in range(num_stage):\n",
    "            for i in range(Path.N): \n",
    "                numAccept['staging'] += staging(Path,m,i)\n",
    "                \n",
    "        \n",
    "                \n",
    "                \n",
    "#         # for each particle and the central slice try a tunneling move (post-process)\n",
    "#         for i in range(Path.N):\n",
    "#             numAccept['inst_swap'] += inst_swap(Path,i)\n",
    "            \n",
    "\n",
    "        # measure the energy\n",
    "        if step >= num_equil_steps:\n",
    "            measure = step-num_equil_steps\n",
    "            estimator['E'][measure],estimator['Vslice'][measure] = Path.Energy()\n",
    "            \n",
    "            # store bead for a sigle particle\n",
    "            for α in range(Path.num_time_slices):\n",
    "                idx = find_idx(grid_x,Path.beads[α,0])\n",
    "                estimator['density'][α, idx] += drho\n",
    "            \n",
    "\n",
    "    print('displace: %4.3f' %\n",
    "          ((1.0*numAccept['displace'])/(num_MC_steps*Path.num_time_slices*Path.N)))\n",
    "    print('staging:  %4.3f' %\n",
    "          ((1.0*numAccept['staging'])/(num_MC_steps*Path.N*num_stage)))\n",
    "    print('inst_swap:  %4.3f' %\n",
    "          ((1.0*numAccept['inst_swap'])/(num_MC_steps*Path.N)))\n",
    "    \n",
    "    return estimator"
   ]
  },
  {
   "cell_type": "code",
   "execution_count": 8,
   "metadata": {},
   "outputs": [],
   "source": [
    "def V_left(a,b,V0,α,x):\n",
    "    return V0/(1+np.exp(-10*(b-a+x)))+V0/(1+np.exp(-10*(-x-(b+a))))"
   ]
  },
  {
   "cell_type": "code",
   "execution_count": 9,
   "metadata": {},
   "outputs": [],
   "source": [
    "def V_right(a,b,V0,α,x):\n",
    "    return V0/(1+np.exp(-10*(b-a-x)))+V0/(1+np.exp(-10*(x-(b+a))))"
   ]
  },
  {
   "cell_type": "code",
   "execution_count": 10,
   "metadata": {},
   "outputs": [],
   "source": [
    "def V_double(a,b,V0,α,x):\n",
    "    if -b-a < x < -b+a:\n",
    "        return 0\n",
    "    elif b-a < x < b+a:\n",
    "        return 0\n",
    "    else:\n",
    "        return V0"
   ]
  },
  {
   "cell_type": "code",
   "execution_count": 11,
   "metadata": {},
   "outputs": [],
   "source": [
    "def V_shift(a,b,V0,α,x):\n",
    "    if α == M:\n",
    "        return (V_left(a,b,V0,α,x) + V_right(a,b,V0,α,x))/2\n",
    "    elif α < M:\n",
    "        return V_left(a,b,V0,α,x)\n",
    "    else:\n",
    "        return V_right(a,b,V0,α,x)"
   ]
  },
  {
   "cell_type": "code",
   "execution_count": 12,
   "metadata": {},
   "outputs": [],
   "source": [
    "def V_center(a,b,V0,α,x):\n",
    "    if -a < x < +a:\n",
    "        return 0\n",
    "    else:\n",
    "        return V0"
   ]
  },
  {
   "cell_type": "code",
   "execution_count": 13,
   "metadata": {},
   "outputs": [],
   "source": [
    "# grid for density !Must be same for those in pigs\n",
    "num_grid = 500\n",
    "grid_x = np.linspace(-5.0, 5.0, num_grid)"
   ]
  },
  {
   "cell_type": "code",
   "execution_count": 14,
   "metadata": {},
   "outputs": [
    {
     "name": "stdout",
     "output_type": "stream",
     "text": [
      "displace: 0.803\n",
      "staging:  0.381\n",
      "inst_swap:  0.311\n",
      "Ē = 0.779268 ± 0.008364\n"
     ]
    }
   ],
   "source": [
    "# setup the simulation for [tunneling]\n",
    "M,N,τ,λ,ω1,a,b,V0 = 10, 1, 4.0, 0.5, 0, 0.5, 1.0, 2.0\n",
    "Δτ = τ/M\n",
    "V_setup = V_shift\n",
    "\n",
    "# random initial positions\n",
    "np.random.seed(1173)\n",
    "beads = -0.5 + np.random.random([2*M+1,N])\n",
    "\n",
    "# setup the paths\n",
    "Path = Paths(beads,M,Δτ,λ,V_setup,ω1,a,b,V0)\n",
    "\n",
    "# compute the energy via path integral ground state Monte Carlo\n",
    "num_MC_steps = 70000\n",
    "num_equil_steps = 40000\n",
    "estimator = pigs(num_MC_steps,num_equil_steps,Path)\n",
    "\n",
    "from scipy.stats import sem\n",
    "Ē,ΔĒ = np.average(estimator['E']),sem(estimator['E'])\n",
    "V̄slice,ΔV̄slice = np.average(estimator['Vslice'],axis=0),sem(estimator['Vslice'],axis=0)\n",
    "\n",
    "print('Ē = %f ± %f' % (Ē,ΔĒ))\n",
    "E_shift = [float(Ē),float(ΔĒ)]\n",
    "den_shift = np.copy(estimator['density'])"
   ]
  },
  {
   "cell_type": "code",
   "execution_count": 15,
   "metadata": {},
   "outputs": [],
   "source": [
    "# Analytic value\n",
    "Em = 1.09249"
   ]
  },
  {
   "cell_type": "code",
   "execution_count": 16,
   "metadata": {},
   "outputs": [
    {
     "data": {
      "text/plain": [
       "21"
      ]
     },
     "execution_count": 16,
     "metadata": {},
     "output_type": "execute_result"
    }
   ],
   "source": [
    "len(beads)"
   ]
  },
  {
   "cell_type": "code",
   "execution_count": 17,
   "metadata": {},
   "outputs": [],
   "source": [
    "def cumulativeMovingAverage(data):\n",
    "    '''Compute the cumulative mean as a function of bin index.'''\n",
    "    CMA = np.zeros_like(data)\n",
    "    CMA[0] = data[0]\n",
    "    for n in range(len(data)-1):\n",
    "        CMA[n+1] = (data[n+1] + n*CMA[n])/(1.0*(n+1))\n",
    "    return CMA"
   ]
  },
  {
   "cell_type": "code",
   "execution_count": 18,
   "metadata": {},
   "outputs": [
    {
     "data": {
      "text/plain": [
       "[<matplotlib.lines.Line2D at 0x7f3868868e80>]"
      ]
     },
     "execution_count": 18,
     "metadata": {},
     "output_type": "execute_result"
    },
    {
     "data": {
      "image/png": "[encoded data removed]",
      "text/plain": [
       "<Figure size 432x288 with 1 Axes>"
      ]
     },
     "metadata": {
      "needs_background": "light"
     },
     "output_type": "display_data"
    }
   ],
   "source": [
    "cumave = cumulativeMovingAverage(estimator['E'])\n",
    "plt.plot(cumave[7000:])"
   ]
  },
  {
   "cell_type": "code",
   "execution_count": 19,
   "metadata": {
    "scrolled": false
   },
   "outputs": [],
   "source": [
    "# Analytic form of 𝛿 is shown below\n",
    "# Em is analytic solution of the equation below (Same with E_single_well)\n",
    "def delta(Path, Em):\n",
    "    return 4*(V0-Em)*Em*np.exp(-2*(b-a)*np.sqrt((V0-Em)/λ))/V0/(a*np.sqrt((V0-Em)/λ) +1)"
   ]
  },
  {
   "cell_type": "code",
   "execution_count": 20,
   "metadata": {},
   "outputs": [
    {
     "name": "stdout",
     "output_type": "stream",
     "text": [
      "0.3079999077341899\n"
     ]
    }
   ],
   "source": [
    "# Give delta\n",
    "λ,a,b,V0 = 0.5, 0.5, 1.0, 2.0\n",
    "\n",
    "eval = delta(Path,1.09249)\n",
    "#eval = delta(Path,1.37179)\n",
    "print(eval)"
   ]
  },
  {
   "cell_type": "markdown",
   "metadata": {},
   "source": [
    "\\begin{equation}\n",
    "\\sqrt{V-E_{m}}=\\sqrt{E_{m}}\\tan\\left(\\sqrt{E_{m}/\\lambda}a\\right)\n",
    "\\end{equation}\n",
    "\\begin{equation}\n",
    "\\delta=4\\frac{\\left(V-E_{m}\\right)E_{m}e^{-2\\left(b-a\\right)\\sqrt{\\left(V-E_{m}\\right)/\\lambda}}}{V\\left(a\\sqrt{\\left(V-E_{m}\\right)/\\lambda}+1\\right)}\n",
    "\\end{equation}"
   ]
  },
  {
   "cell_type": "code",
   "execution_count": 21,
   "metadata": {},
   "outputs": [
    {
     "data": {
      "text/plain": [
       "[<matplotlib.lines.Line2D at 0x7f3867fb3820>]"
      ]
     },
     "execution_count": 21,
     "metadata": {},
     "output_type": "execute_result"
    },
    {
     "data": {
      "image/png": "[encoded data removed]",
      "text/plain": [
       "<Figure size 432x288 with 1 Axes>"
      ]
     },
     "metadata": {
      "needs_background": "light"
     },
     "output_type": "display_data"
    }
   ],
   "source": [
    "plt.plot(np.arange(2*M+1) ,V̄slice)"
   ]
  },
  {
   "cell_type": "code",
   "execution_count": 22,
   "metadata": {},
   "outputs": [
    {
     "data": {
      "text/plain": [
       "[<matplotlib.lines.Line2D at 0x7f3867f9ac40>]"
      ]
     },
     "execution_count": 22,
     "metadata": {},
     "output_type": "execute_result"
    },
    {
     "data": {
      "image/png": "[encoded data removed]",
      "text/plain": [
       "<Figure size 432x288 with 1 Axes>"
      ]
     },
     "metadata": {
      "needs_background": "light"
     },
     "output_type": "display_data"
    }
   ],
   "source": [
    "plt.plot(grid_x ,estimator['density'][2,:])\n",
    "plt.plot(grid_x ,estimator['density'][2*M-2,:])"
   ]
  },
  {
   "cell_type": "code",
   "execution_count": 23,
   "metadata": {
    "scrolled": true
   },
   "outputs": [
    {
     "data": {
      "text/plain": [
       "[<matplotlib.lines.Line2D at 0x7f3867e20220>]"
      ]
     },
     "execution_count": 23,
     "metadata": {},
     "output_type": "execute_result"
    },
    {
     "data": {
      "image/png": "[encoded data removed]",
      "text/plain": [
       "<Figure size 432x288 with 4 Axes>"
      ]
     },
     "metadata": {
      "needs_background": "light"
     },
     "output_type": "display_data"
    }
   ],
   "source": [
    "fig, axs = plt.subplots(2, 2)\n",
    "axs[0, 0].plot(grid_x ,estimator['density'][M-int(M/2),:])\n",
    "\n",
    "axs[0, 1].plot(grid_x ,estimator['density'][M-1,:], 'tab:orange')\n",
    "\n",
    "axs[1, 0].plot(grid_x ,estimator['density'][M,:], 'tab:green')\n",
    "\n",
    "axs[1, 1].plot(grid_x ,estimator['density'][M+int(M/2),:], 'tab:red')\n"
   ]
  },
  {
   "cell_type": "code",
   "execution_count": 30,
   "metadata": {},
   "outputs": [
    {
     "name": "stdout",
     "output_type": "stream",
     "text": [
      "500\n"
     ]
    }
   ],
   "source": [
    "num_slice = len(den_shift[:,0])\n",
    "#num_grid\n",
    "ave_den = np.zeros(num_grid)\n",
    "for a in range(num_slice):\n",
    "    ave_den += den_shift[a,:]\n",
    "print(len(ave_den))    "
   ]
  },
  {
   "cell_type": "code",
   "execution_count": 31,
   "metadata": {},
   "outputs": [
    {
     "data": {
      "text/plain": [
       "[<matplotlib.lines.Line2D at 0x7f3867ebd6d0>]"
      ]
     },
     "execution_count": 31,
     "metadata": {},
     "output_type": "execute_result"
    },
    {
     "data": {
      "image/png": "[encoded data removed]",
      "text/plain": [
       "<Figure size 432x288 with 1 Axes>"
      ]
     },
     "metadata": {
      "needs_background": "light"
     },
     "output_type": "display_data"
    }
   ],
   "source": [
    "plt.plot(grid_x ,ave_den)"
   ]
  },
  {
   "cell_type": "code",
   "execution_count": 33,
   "metadata": {},
   "outputs": [
    {
     "name": "stdout",
     "output_type": "stream",
     "text": [
      "0.8820000000000019\n"
     ]
    }
   ],
   "source": [
    "print(np.sum(ave_den)*21)"
   ]
  },
  {
   "cell_type": "code",
   "execution_count": 59,
   "metadata": {
    "scrolled": true
   },
   "outputs": [
    {
     "name": "stdout",
     "output_type": "stream",
     "text": [
      "lfrf: 0.499\n"
     ]
    }
   ],
   "source": [
    "from scipy import integrate\n",
    "# density left\n",
    "left = den_shift[2, :]\n",
    "lfnorm = integrate.simpson(left, grid_x)\n",
    "left /= lfnorm\n",
    "\n",
    "lfsqrt = np.asarray([np.sqrt(lf) for lf in left])\n",
    "# lfsum = left.sum()\n",
    "# lfnorm = np.asarray([lf/np.sqrt(lfsum) for lf in left])\n",
    "\n",
    "# density right\n",
    "right = den_shift[2*M-2, :]\n",
    "rfnorm = integrate.simpson(right, grid_x)\n",
    "right /= rfnorm\n",
    "\n",
    "rfsqrt = np.asarray([np.sqrt(rf) for rf in right])\n",
    "# rfsum = right.sum()\n",
    "# rfnorm = np.asarray([rf/np.sqrt(rfsum) for rf in right])\n",
    "\n",
    "lfrf_int = integrate.simpson(np.sqrt(left*right), grid_x)\n",
    "\n",
    "# corr_lfrf = lfnorm * rfnorm\n",
    "# integral_lfrf = corr_lfrf.sum()\n",
    "\n",
    "print('lfrf: %4.3f' % lfrf_int)"
   ]
  },
  {
   "cell_type": "code",
   "execution_count": 53,
   "metadata": {},
   "outputs": [
    {
     "name": "stdout",
     "output_type": "stream",
     "text": [
      "[0.6541288495724739, 0.008066706984437462]\n"
     ]
    }
   ],
   "source": [
    "D = 1.55031\n",
    "measured = [2/D/D*E_shift[0],2/D/D*E_shift[1]]\n",
    "print(measured)"
   ]
  },
  {
   "cell_type": "code",
   "execution_count": 60,
   "metadata": {},
   "outputs": [
    {
     "name": "stdout",
     "output_type": "stream",
     "text": [
      "0.3750855587568553\n"
     ]
    }
   ],
   "source": [
    "print(0.964*lfrf_int*E_shift[0])"
   ]
  },
  {
   "cell_type": "code",
   "execution_count": null,
   "metadata": {},
   "outputs": [],
   "source": []
  }
 ],
 "metadata": {
  "kernelspec": {
   "display_name": "Python 3",
   "language": "python",
   "name": "python3"
  },
  "language_info": {
   "codemirror_mode": {
    "name": "ipython",
    "version": 3
   },
   "file_extension": ".py",
   "mimetype": "text/x-python",
   "name": "python",
   "nbconvert_exporter": "python",
   "pygments_lexer": "ipython3",
   "version": "3.8.5"
  }
 },
 "nbformat": 4,
 "nbformat_minor": 4
}
