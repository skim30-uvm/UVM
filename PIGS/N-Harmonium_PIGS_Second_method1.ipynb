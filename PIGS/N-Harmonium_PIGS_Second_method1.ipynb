{
 "cells": [
  {
   "cell_type": "code",
   "execution_count": 1,
   "metadata": {},
   "outputs": [],
   "source": [
    "import numpy as np\n",
    "import matplotlib.pyplot as plt"
   ]
  },
  {
   "cell_type": "markdown",
   "metadata": {},
   "source": [
    "\\begin{equation}\n",
    "H=-\\frac{\\hbar}{2m}\\sum_{i}\\frac{d^{2}}{dx^{2}}+\\frac{1}{2}m\\omega_{0}^{2}\\sum_{i}x_{i}^{2}+\\frac{1}{2}m\\omega_{int}^{2}\\sum_{i<j}\\left(x_{i}-x_{j}\\right)^{2}\n",
    "\\end{equation}\n"
   ]
  },
  {
   "cell_type": "code",
   "execution_count": 2,
   "metadata": {},
   "outputs": [],
   "source": [
    "def displace(Path,α,i,δ=0.75):\n",
    "    '''Single bead displace update.\n",
    "    \n",
    "       NB: not implemented for periodic boundary conditions.\n",
    "    '''\n",
    "    # Calculate the action\n",
    "    x = Path.beads[α,i]\n",
    "    oldAction = Path.kinetic_action(α,i) + Path.potential_action(α)\n",
    "\n",
    "    # Displace the bead\n",
    "    Path.beads[α,i] += δ*(-1.0 + 2.0*np.random.random())\n",
    "\n",
    "    # Compute the new action\n",
    "    newAction = Path.kinetic_action(α,i) + Path.potential_action(α)\n",
    "    \n",
    "    # Accept the move, or reject and restore the bead position\n",
    "    if np.random.random() < np.exp(-(newAction - oldAction)):\n",
    "        return True\n",
    "    else:\n",
    "        Path.beads[α,i] = x\n",
    "        return False"
   ]
  },
  {
   "cell_type": "code",
   "execution_count": 3,
   "metadata": {},
   "outputs": [],
   "source": [
    "def staging(Path,m,i):\n",
    "    '''Multi-slice update which eactly samples the free particle \n",
    "       propagator between two fixed beads.\n",
    "\n",
    "       See: http://link.aps.org/doi/10.1103/PhysRevB.31.4234\n",
    "    \n",
    "       NB: not implemented for periodic boundary conditions.\n",
    "    '''\n",
    "    # choose the start and end of the stage\n",
    "    α_start = np.random.randint(low=0,high=Path.num_time_slices)\n",
    "    α_end = α_start + m\n",
    "    \n",
    "    # if we move off the end of the path, reject the move\n",
    "    if α_end >= Path.num_time_slices:\n",
    "        return False\n",
    "\n",
    "    # Record the positions of the beads to be updated and store the action\n",
    "    x = np.copy(Path.beads[α_start+1:α_end,i])\n",
    "    oldAction = 0.0\n",
    "    for α in range(α_start+1,α_end):\n",
    "        oldAction += Path.potential_action(α)\n",
    "\n",
    "    # Generate new positions and accumulate the new action\n",
    "    newAction = 0.0;\n",
    "    for α in range(α_start+1,α_end):\n",
    "        Δτ1 = Path.Δτ   \n",
    "        Δτ2 = (α_end - α)*Path.Δτ\n",
    "        avex = (Δτ2*Path.beads[α-1,i] + Δτ1*Path.beads[α_end,i])\\\n",
    "                / (Δτ1 + Δτ2)\n",
    "        σ = np.sqrt(2.0*Path.λ / (1.0/Δτ1 + 1.0/Δτ2))\n",
    "        Path.beads[α,i] = np.random.normal(loc=avex,scale=σ)\n",
    "        newAction += Path.potential_action(α)\n",
    "\n",
    "    # Perform the Metropolis step, if we reject, revert the worldline\n",
    "    if np.random.random() < np.exp(-(newAction - oldAction)):\n",
    "        return True\n",
    "    else:\n",
    "        Path.beads[α_start+1:α_end,i] = x\n",
    "        return False"
   ]
  },
  {
   "cell_type": "code",
   "execution_count": 4,
   "metadata": {},
   "outputs": [],
   "source": [
    "def pigs(num_MC_steps,num_equil_steps,Path,m=8):\n",
    "    '''Perform a path integral ground state Monte Carlo simulation.'''\n",
    "\n",
    "    # initialize estimators and acceptance counters\n",
    "    numAccept = {'displace':0,'staging':0}\n",
    "    estimator = {'E':np.zeros(num_MC_steps-num_equil_steps),\n",
    "                 'Eslice':np.zeros([num_MC_steps-num_equil_steps,Path.num_time_slices])}\n",
    "\n",
    "    measure = 0\n",
    "    for step in range(num_MC_steps): \n",
    "        \n",
    "        # for each particle and slice try a displace move\n",
    "        for α in range(Path.num_time_slices):\n",
    "            for i in range(Path.N):\n",
    "                numAccept['displace'] += displace(Path,α,i)\n",
    "\n",
    "        # for each particle try a number of staging moves\n",
    "        num_stage = int(Path.num_time_slices/m)\n",
    "        for stage in range(num_stage):\n",
    "            for i in range(Path.N): \n",
    "                numAccept['staging'] += staging(Path,m,i)\n",
    "\n",
    "        # measure the energy\n",
    "        if step >= num_equil_steps:\n",
    "            measure = step-num_equil_steps\n",
    "            estimator['E'][measure],estimator['Eslice'][measure] = Path.Energy()\n",
    "                     \n",
    "    print('displace: %4.3f' %\n",
    "          ((1.0*numAccept['displace'])/(num_MC_steps*Path.num_time_slices*Path.N)))\n",
    "    print('staging:  %4.3f' %\n",
    "          ((1.0*numAccept['staging'])/(num_MC_steps*Path.N*num_stage)))\n",
    "    \n",
    "    return estimator"
   ]
  },
  {
   "cell_type": "code",
   "execution_count": 5,
   "metadata": {},
   "outputs": [],
   "source": [
    "class Paths:\n",
    "    '''The set of worldlines, action and estimators.'''\n",
    "    def __init__(self,beads,M,Δτ,λ,ω0,ω1):\n",
    "        self.Δτ = Δτ\n",
    "        self.λ = λ\n",
    "        self.M = M\n",
    "        self.beads = np.copy(beads)\n",
    "        self.num_time_slices = len(beads)\n",
    "        self.N = len(beads[0])\n",
    "        self.ω0 = ω0\n",
    "        self.ω1 = ω1\n",
    "        self.norm = np.ones(self.num_time_slices)\n",
    "        \n",
    "        self.norm[0] = self.norm[-1] = 0.5\n",
    "        \n",
    "    def V(self,x):\n",
    "        '''harmonic oscillator potential'''\n",
    "        ω = self.ω0\n",
    "        return ω*ω*x*x /(4.0*self.λ)\n",
    "    \n",
    "    def dV(self,x):\n",
    "        ω = self.ω0\n",
    "        return ω*ω*x /(2.0*self.λ)\n",
    "    \n",
    "    def ddV(self,x):\n",
    "        ω = self.ω0\n",
    "        return ω*ω /(2.0*self.λ)\n",
    "    \n",
    "    def Vint(self, xi, xj):\n",
    "        '''harmonic interaction potential'''\n",
    "        ω = self.ω1\n",
    "        return ω*ω*(xi-xj)**2 /(4.0*self.λ)\n",
    "    \n",
    "    def Ψ(self, xi, xj):\n",
    "        '''trial wave function'''\n",
    "        return 1.0/np.cosh(np.sqrt(np.pi/2)*xi)\n",
    "#         η = np.sqrt(1 + self.N*self.ω1**2/self.ω0**2)\n",
    "#         σ0 = np.sqrt(2*self.λ/self.ω0)\n",
    "#         return η**(1/4)/np.sqrt(np.pi)*np.exp(-1/(2*σ0**2)*((1+η)*(xi**2+xj**2)/2+(1-η)*xi*xj)) \n",
    "    \n",
    "    def kinetic_action(self,α,i):\n",
    "        '''kinetic action of a bead.'''\n",
    "        \n",
    "        if α == 0.0:\n",
    "            cK = (self.beads[α+1,i]-self.beads[α,i])**2\n",
    "        elif α == 2*self.M:\n",
    "            cK = (self.beads[α,i]-self.beads[α-1,i])**2\n",
    "        else:\n",
    "            cK = (self.beads[α,i]-self.beads[α-1,i])**2 + (self.beads[α+1,i]-self.beads[α,i])**2\n",
    "        return cK / (4*self.λ*self.Δτ)\n",
    "\n",
    "    def potential_action(self,α):\n",
    "        '''potential action of a slice.'''\n",
    "        cV = 0.0\n",
    "        ΨT = 1.0\n",
    "            \n",
    "        for i in range(self.N):\n",
    "            xi = self.beads[α,i]\n",
    "            cV += self.norm[α]*self.V(xi)\n",
    "            \n",
    "            for j in range(self.N):\n",
    "                xj = self.beads[α,j]\n",
    "                if i<j:\n",
    "                    cV += self.norm[α]*self.Vint(xi, xj)    \n",
    "                # add the wavefunction at the ends of the path\n",
    "                if α == 0 or α == 2*self.M:\n",
    "                    ΨT *= self.Ψ(xi, xj)\n",
    "                \n",
    "        return self.Δτ*cV - np.log(ΨT)\n",
    "    \n",
    "\n",
    "    def Energy(self):\n",
    "        '''The total energy.'''\n",
    "                \n",
    "        # the kinetic part\n",
    "        norm2 = 1.0/(4.0*self.λ*self.Δτ**2)\n",
    "        KE = 0.0\n",
    "        KEslice = np.zeros(self.num_time_slices)\n",
    "        counter = 0\n",
    "        M = self.M\n",
    "        for α in range(self.num_time_slices-1):\n",
    "            for i in range(self.N):\n",
    "                counter += 1\n",
    "                ΔR = self.beads[α+1,i] - self.beads[α,i]\n",
    "                KEslice[α] +=  - norm2*np.dot(ΔR,ΔR)\n",
    "            KEslice[α] += 0.5*self.N/self.Δτ\n",
    "        for α in range(M-1, M+1):\n",
    "            KE += KEslice[α]\n",
    "        KE /= 2\n",
    "        \n",
    "        # the potential part\n",
    "        PE = 0.0\n",
    "        cV = 0.0\n",
    "        counter2 = 0\n",
    "        Vslice = np.zeros(self.num_time_slices)\n",
    "        for α in range(self.num_time_slices-1):\n",
    "            for i in range(self.N):\n",
    "                counter2 += 1\n",
    "                cV = self.V(self.beads[α+1,i])\n",
    "                cV -= (self.beads[α+1,i]-self.beads[α,i])*self.dV(self.beads[α+1,i])/2\n",
    "                cV += self.λ*self.Δτ*self.ddV(self.beads[α+1,i])/2\n",
    "                cV -= self.λ*(self.Δτ*self.dV(self.beads[α+1,i])/2)**2\n",
    "                for j in range(self.N):\n",
    "                    if i<j:\n",
    "                        cV += self.Vint(self.beads[α,i], self.beads[α,j])\n",
    "                Vslice[α] += cV\n",
    "                PE += cV\n",
    "                \n",
    "        \n",
    "        PE /= counter2\n",
    "        \n",
    "        Eslice = np.add(KEslice, Vslice)\n",
    "               \n",
    "        \n",
    "        return KE + PE, Eslice"
   ]
  },
  {
   "cell_type": "code",
   "execution_count": 6,
   "metadata": {
    "scrolled": true
   },
   "outputs": [
    {
     "name": "stdout",
     "output_type": "stream",
     "text": [
      "displace: 0.678\n",
      "staging:  0.406\n",
      "Ē = 0.513272 ± 0.005839\n"
     ]
    }
   ],
   "source": [
    "# setup the simulation\n",
    "M,N,τ,λ,ω0,ω1 = 10,1,4.0,0.5,1.0,0.0\n",
    "Δτ = τ/M\n",
    "\n",
    "# random initial positions\n",
    "np.random.seed(1173)\n",
    "beads = -0.5 + np.random.random([2*M+1,N])\n",
    "\n",
    "# setup the paths\n",
    "Path = Paths(beads,M,Δτ,λ,ω0,ω1)\n",
    "\n",
    "# compute the energy via path integral ground state Monte Carlo\n",
    "num_MC_steps = 40000\n",
    "num_equil_steps = 10000\n",
    "estimator = pigs(num_MC_steps,num_equil_steps,Path)\n",
    "\n",
    "from scipy.stats import sem\n",
    "Ē,ΔĒ = np.average(estimator['E']),sem(estimator['E'])\n",
    "V̄slice,ΔV̄slice = np.average(estimator['Eslice'],axis=0),sem(estimator['Eslice'],axis=0)\n",
    "\n",
    "print('Ē = %f ± %f' % (Ē,ΔĒ))"
   ]
  },
  {
   "cell_type": "code",
   "execution_count": 7,
   "metadata": {},
   "outputs": [
    {
     "name": "stdout",
     "output_type": "stream",
     "text": [
      "0.5\n"
     ]
    }
   ],
   "source": [
    "def E_gs(Path):\n",
    "    eta = np.sqrt(1.0 + (N)*(ω1 / ω0)**2)\n",
    "    return ω0/2*(1+(N-1)*eta)\n",
    "\n",
    "analytical_E = E_gs(Path)\n",
    "print(analytical_E)"
   ]
  },
  {
   "cell_type": "code",
   "execution_count": 9,
   "metadata": {},
   "outputs": [
    {
     "data": {
      "text/plain": [
       "[<matplotlib.lines.Line2D at 0x7fac3826f6a0>]"
      ]
     },
     "execution_count": 9,
     "metadata": {},
     "output_type": "execute_result"
    },
    {
     "data": {
      "image/png": "[encoded data removed]",
      "text/plain": [
       "<Figure size 432x288 with 1 Axes>"
      ]
     },
     "metadata": {
      "needs_background": "light"
     },
     "output_type": "display_data"
    }
   ],
   "source": [
    "plt.plot(np.arange(2*M) ,V̄slice[:-1])"
   ]
  },
  {
   "cell_type": "code",
   "execution_count": 41,
   "metadata": {},
   "outputs": [],
   "source": [
    "def cumulativeMovingAverage(data):\n",
    "    '''Compute the cumulative mean as a function of bin index.'''\n",
    "    CMA = np.zeros_like(data)\n",
    "    CMA[0] = data[0]\n",
    "    for n in range(len(data)-1):\n",
    "        CMA[n+1] = (data[n+1] + n*CMA[n])/(1.0*(n+1))\n",
    "    return CMA"
   ]
  },
  {
   "cell_type": "code",
   "execution_count": 42,
   "metadata": {},
   "outputs": [
    {
     "data": {
      "text/plain": [
       "[<matplotlib.lines.Line2D at 0x7fbae698fc40>]"
      ]
     },
     "execution_count": 42,
     "metadata": {},
     "output_type": "execute_result"
    },
    {
     "data": {
      "image/png": "[encoded data removed]",
      "text/plain": [
       "<Figure size 432x288 with 1 Axes>"
      ]
     },
     "metadata": {
      "needs_background": "light"
     },
     "output_type": "display_data"
    }
   ],
   "source": [
    "cumave = cumulativeMovingAverage(estimator['E'])\n",
    "plt.plot(cumave[10000:])"
   ]
  },
  {
   "cell_type": "markdown",
   "metadata": {},
   "source": [
    "check beta dependence, compute energy for many different beta, see if it exponentially decays, check if decay rate depends on the trial wavefunction "
   ]
  },
  {
   "cell_type": "markdown",
   "metadata": {},
   "source": [
    "check how energy depends on $\\Delta \\tau$"
   ]
  },
  {
   "cell_type": "markdown",
   "metadata": {},
   "source": [
    "Check energy at different imaginary time slices"
   ]
  },
  {
   "cell_type": "markdown",
   "metadata": {},
   "source": [
    "impliment more estimators, $\\langle x \\rangle$, etc."
   ]
  },
  {
   "cell_type": "markdown",
   "metadata": {},
   "source": [
    "density-density correlation funciton, -> static structure factor"
   ]
  }
 ],
 "metadata": {
  "kernelspec": {
   "display_name": "Python 3",
   "language": "python",
   "name": "python3"
  },
  "language_info": {
   "codemirror_mode": {
    "name": "ipython",
    "version": 3
   },
   "file_extension": ".py",
   "mimetype": "text/x-python",
   "name": "python",
   "nbconvert_exporter": "python",
   "pygments_lexer": "ipython3",
   "version": "3.8.5"
  }
 },
 "nbformat": 4,
 "nbformat_minor": 2
}
